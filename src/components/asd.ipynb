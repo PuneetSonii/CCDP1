{
 "cells": [
  {
   "cell_type": "code",
   "execution_count": null,
   "metadata": {},
   "outputs": [],
   "source": [
    "params={\n",
    "                \"Decision Tree\": {\n",
    "                'criterion': ['gini', 'entropy'],\n",
    "                'max_depth': [None, 5, 10, 20],\n",
    "                'min_samples_split': [2, 5, 10]\n",
    "                },\n",
    "                \"Random Forest\": {\n",
    "                'n_estimators': [50, 100, 200],\n",
    "                'max_depth': [None, 5, 10, 20],\n",
    "                'min_samples_split': [2, 5, 10],\n",
    "                'min_samples_leaf': [1, 2, 4],\n",
    "                'max_features': ['auto', 'sqrt', 'log2']\n",
    "                },\n",
    "                \"Gradient Boosting\": {\n",
    "                'n_estimators': [50, 100, 200],\n",
    "                'learning_rate': [0.1, 0.05, 0.01],\n",
    "                'max_depth': [3, 4, 5],\n",
    "                'min_samples_split': [2, 5, 10]\n",
    "                },\n",
    "                \"XGBoost\": {\n",
    "                'n_estimators': [50, 100, 200],\n",
    "                'max_depth': [3, 4, 5],\n",
    "                'learning_rate': [0.1, 0.05, 0.01],\n",
    "                'subsample': [0.8, 1.0],\n",
    "                'colsample_bytree': [0.8, 1.0]\n",
    "                },\n",
    "                \"CatBoosting Classifier\": {\n",
    "                'depth': [6, 8, 10],\n",
    "                'learning_rate': [0.01, 0.05, 0.1],\n",
    "                'iterations': [30, 50, 100]\n",
    "                },\n",
    "                \"AdaBoost Classifier\": {\n",
    "                'n_estimators': [50, 100, 200],\n",
    "                'learning_rate': [0.1, 0.05, 0.01]\n",
    "                },\n",
    "                \"SVM\": {\n",
    "                'C': [0.1, 1, 10],\n",
    "                'kernel': ['linear', 'rbf']\n",
    "                },\n",
    "                \"Neural Network (MLP)\": {\n",
    "                'hidden_layer_sizes': [(100,), (50, 50), (30, 30, 30)],\n",
    "                'alpha': [0.0001, 0.001, 0.01],\n",
    "                'learning_rate': ['constant', 'invscaling', 'adaptive']\n",
    "                },\n",
    "                \"K-Neighbors Classifier\": {\n",
    "                'n_neighbors': [3, 5, 7, 9]\n",
    "    }\n",
    "            }"
   ]
  }
 ],
 "metadata": {
  "language_info": {
   "name": "python"
  },
  "orig_nbformat": 4
 },
 "nbformat": 4,
 "nbformat_minor": 2
}
