{
 "cells": [
  {
   "cell_type": "code",
   "execution_count": null,
   "metadata": {},
   "outputs": [],
   "source": [
    "data = CustomData(\n",
    "        SEX=int(request.form['gender']),\n",
    "        EDUCATION=int(request.form['education']),\n",
    "        MARRIAGE=int(request.form['marriage']),\n",
    "        AGE= int(request.form['age']),\n",
    "        LIMIT_BAL=float(request.form['limit_bal']),\n",
    "        PAY_1=int(request.form['april_rs']),\n",
    "        PAY_2=int(request.form['may_rs']),\n",
    "        PAY_3=int(request.form['june_rs']),\n",
    "        PAY_4=int(request.form['july_rs']),\n",
    "        PAY_5=int(request.form['august_rs']),\n",
    "        PAY_6=int(request.f"
   ]
  }
 ],
 "metadata": {
  "language_info": {
   "name": "python"
  }
 },
 "nbformat": 4,
 "nbformat_minor": 2
}
