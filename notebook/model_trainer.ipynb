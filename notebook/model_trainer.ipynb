{
  "cells": [
    {
      "cell_type": "markdown",
      "metadata": {
        "id": "FimHqXKdaAUv"
      },
      "source": [
        "# **`1. Import libraries and Dataset`**"
      ]
    },
    {
      "cell_type": "code",
      "execution_count": 2,
      "metadata": {
        "colab": {
          "base_uri": "https://localhost:8080/"
        },
        "id": "kRigEFgKL3sR",
        "outputId": "50126f0a-9977-4951-9e76-b740deae7f79"
      },
      "outputs": [],
      "source": [
        "from src.logger import logging\n",
        "logging.info('PROJECT FILE 2 STARTS RUNNING!')"
      ]
    },
    {
      "cell_type": "code",
      "execution_count": 3,
      "metadata": {
        "colab": {
          "base_uri": "https://localhost:8080/"
        },
        "id": "qlC0y93lUoK8",
        "outputId": "b1c64383-3e38-4c67-ca8c-d8798e313ccc"
      },
      "outputs": [],
      "source": [
        "import pandas as pd\n",
        "import numpy as np\n",
        "import seaborn as sns\n",
        "\n",
        "from imblearn.over_sampling import SMOTE\n",
        "\n",
        "import matplotlib.pyplot as plt\n",
        "\n",
        "from sklearn.model_selection import train_test_split\n",
        "from sklearn.preprocessing import StandardScaler\n",
        "from sklearn.ensemble import RandomForestClassifier\n",
        "\n",
        "from sklearn.metrics import recall_score, confusion_matrix\n",
        "from sklearn.model_selection import GridSearchCV\n",
        "from sklearn import metrics  \n",
        "\n",
        "import pickle\n",
        "\n",
        "import warnings\n",
        "warnings.filterwarnings('ignore')\n",
        "\n"
      ]
    },
    {
      "cell_type": "code",
      "execution_count": 4,
      "metadata": {},
      "outputs": [],
      "source": [
        "logging.info('LIBRARIES IMPORTED')"
      ]
    },
    {
      "cell_type": "code",
      "execution_count": 5,
      "metadata": {
        "colab": {
          "base_uri": "https://localhost:8080/",
          "height": 300
        },
        "id": "-uYHT-vjXHYw",
        "outputId": "8527a006-00dc-4350-9cff-c0b4b828bf0b"
      },
      "outputs": [
        {
          "data": {
            "text/html": [
              "<div>\n",
              "<style scoped>\n",
              "    .dataframe tbody tr th:only-of-type {\n",
              "        vertical-align: middle;\n",
              "    }\n",
              "\n",
              "    .dataframe tbody tr th {\n",
              "        vertical-align: top;\n",
              "    }\n",
              "\n",
              "    .dataframe thead th {\n",
              "        text-align: right;\n",
              "    }\n",
              "</style>\n",
              "<table border=\"1\" class=\"dataframe\">\n",
              "  <thead>\n",
              "    <tr style=\"text-align: right;\">\n",
              "      <th></th>\n",
              "      <th>ID</th>\n",
              "      <th>LIMIT_BAL</th>\n",
              "      <th>SEX</th>\n",
              "      <th>EDUCATION</th>\n",
              "      <th>MARRIAGE</th>\n",
              "      <th>AGE</th>\n",
              "      <th>PAY_1</th>\n",
              "      <th>PAY_2</th>\n",
              "      <th>PAY_3</th>\n",
              "      <th>PAY_4</th>\n",
              "      <th>...</th>\n",
              "      <th>BILL_AMT4</th>\n",
              "      <th>BILL_AMT5</th>\n",
              "      <th>BILL_AMT6</th>\n",
              "      <th>PAY_AMT1</th>\n",
              "      <th>PAY_AMT2</th>\n",
              "      <th>PAY_AMT3</th>\n",
              "      <th>PAY_AMT4</th>\n",
              "      <th>PAY_AMT5</th>\n",
              "      <th>PAY_AMT6</th>\n",
              "      <th>default</th>\n",
              "    </tr>\n",
              "  </thead>\n",
              "  <tbody>\n",
              "    <tr>\n",
              "      <th>0</th>\n",
              "      <td>1</td>\n",
              "      <td>20000.0</td>\n",
              "      <td>2</td>\n",
              "      <td>2</td>\n",
              "      <td>1</td>\n",
              "      <td>24</td>\n",
              "      <td>2</td>\n",
              "      <td>2</td>\n",
              "      <td>-1</td>\n",
              "      <td>-1</td>\n",
              "      <td>...</td>\n",
              "      <td>0.0</td>\n",
              "      <td>0.0</td>\n",
              "      <td>0.0</td>\n",
              "      <td>0.0</td>\n",
              "      <td>689.0</td>\n",
              "      <td>0.0</td>\n",
              "      <td>0.0</td>\n",
              "      <td>0.0</td>\n",
              "      <td>0.0</td>\n",
              "      <td>1</td>\n",
              "    </tr>\n",
              "    <tr>\n",
              "      <th>1</th>\n",
              "      <td>2</td>\n",
              "      <td>120000.0</td>\n",
              "      <td>2</td>\n",
              "      <td>2</td>\n",
              "      <td>2</td>\n",
              "      <td>26</td>\n",
              "      <td>-1</td>\n",
              "      <td>2</td>\n",
              "      <td>0</td>\n",
              "      <td>0</td>\n",
              "      <td>...</td>\n",
              "      <td>3272.0</td>\n",
              "      <td>3455.0</td>\n",
              "      <td>3261.0</td>\n",
              "      <td>0.0</td>\n",
              "      <td>1000.0</td>\n",
              "      <td>1000.0</td>\n",
              "      <td>1000.0</td>\n",
              "      <td>0.0</td>\n",
              "      <td>2000.0</td>\n",
              "      <td>1</td>\n",
              "    </tr>\n",
              "    <tr>\n",
              "      <th>2</th>\n",
              "      <td>3</td>\n",
              "      <td>90000.0</td>\n",
              "      <td>2</td>\n",
              "      <td>2</td>\n",
              "      <td>2</td>\n",
              "      <td>34</td>\n",
              "      <td>0</td>\n",
              "      <td>0</td>\n",
              "      <td>0</td>\n",
              "      <td>0</td>\n",
              "      <td>...</td>\n",
              "      <td>14331.0</td>\n",
              "      <td>14948.0</td>\n",
              "      <td>15549.0</td>\n",
              "      <td>1518.0</td>\n",
              "      <td>1500.0</td>\n",
              "      <td>1000.0</td>\n",
              "      <td>1000.0</td>\n",
              "      <td>1000.0</td>\n",
              "      <td>5000.0</td>\n",
              "      <td>0</td>\n",
              "    </tr>\n",
              "    <tr>\n",
              "      <th>3</th>\n",
              "      <td>4</td>\n",
              "      <td>50000.0</td>\n",
              "      <td>2</td>\n",
              "      <td>2</td>\n",
              "      <td>1</td>\n",
              "      <td>37</td>\n",
              "      <td>0</td>\n",
              "      <td>0</td>\n",
              "      <td>0</td>\n",
              "      <td>0</td>\n",
              "      <td>...</td>\n",
              "      <td>28314.0</td>\n",
              "      <td>28959.0</td>\n",
              "      <td>29547.0</td>\n",
              "      <td>2000.0</td>\n",
              "      <td>2019.0</td>\n",
              "      <td>1200.0</td>\n",
              "      <td>1100.0</td>\n",
              "      <td>1069.0</td>\n",
              "      <td>1000.0</td>\n",
              "      <td>0</td>\n",
              "    </tr>\n",
              "    <tr>\n",
              "      <th>4</th>\n",
              "      <td>5</td>\n",
              "      <td>50000.0</td>\n",
              "      <td>1</td>\n",
              "      <td>2</td>\n",
              "      <td>1</td>\n",
              "      <td>57</td>\n",
              "      <td>-1</td>\n",
              "      <td>0</td>\n",
              "      <td>-1</td>\n",
              "      <td>0</td>\n",
              "      <td>...</td>\n",
              "      <td>20940.0</td>\n",
              "      <td>19146.0</td>\n",
              "      <td>19131.0</td>\n",
              "      <td>2000.0</td>\n",
              "      <td>36681.0</td>\n",
              "      <td>10000.0</td>\n",
              "      <td>9000.0</td>\n",
              "      <td>689.0</td>\n",
              "      <td>679.0</td>\n",
              "      <td>0</td>\n",
              "    </tr>\n",
              "  </tbody>\n",
              "</table>\n",
              "<p>5 rows × 25 columns</p>\n",
              "</div>"
            ],
            "text/plain": [
              "   ID  LIMIT_BAL  SEX  EDUCATION  MARRIAGE  AGE  PAY_1  PAY_2  PAY_3  PAY_4  \\\n",
              "0   1    20000.0    2          2         1   24      2      2     -1     -1   \n",
              "1   2   120000.0    2          2         2   26     -1      2      0      0   \n",
              "2   3    90000.0    2          2         2   34      0      0      0      0   \n",
              "3   4    50000.0    2          2         1   37      0      0      0      0   \n",
              "4   5    50000.0    1          2         1   57     -1      0     -1      0   \n",
              "\n",
              "   ...  BILL_AMT4  BILL_AMT5  BILL_AMT6  PAY_AMT1  PAY_AMT2  PAY_AMT3  \\\n",
              "0  ...        0.0        0.0        0.0       0.0     689.0       0.0   \n",
              "1  ...     3272.0     3455.0     3261.0       0.0    1000.0    1000.0   \n",
              "2  ...    14331.0    14948.0    15549.0    1518.0    1500.0    1000.0   \n",
              "3  ...    28314.0    28959.0    29547.0    2000.0    2019.0    1200.0   \n",
              "4  ...    20940.0    19146.0    19131.0    2000.0   36681.0   10000.0   \n",
              "\n",
              "   PAY_AMT4  PAY_AMT5  PAY_AMT6  default  \n",
              "0       0.0       0.0       0.0        1  \n",
              "1    1000.0       0.0    2000.0        1  \n",
              "2    1000.0    1000.0    5000.0        0  \n",
              "3    1100.0    1069.0    1000.0        0  \n",
              "4    9000.0     689.0     679.0        0  \n",
              "\n",
              "[5 rows x 25 columns]"
            ]
          },
          "execution_count": 5,
          "metadata": {},
          "output_type": "execute_result"
        }
      ],
      "source": [
        "df = pd.read_csv('D:/ccdp/notebook/Credit_Card_2.csv')\n",
        "df.head()"
      ]
    },
    {
      "cell_type": "code",
      "execution_count": 6,
      "metadata": {
        "colab": {
          "base_uri": "https://localhost:8080/"
        },
        "id": "NjVrYFcHeya8",
        "outputId": "328aaf1f-1943-42fc-9f45-9565d471a05d"
      },
      "outputs": [],
      "source": [
        "logging.info('DATA IMPORTED AND EXTRACTED TO DATAFRAME!')"
      ]
    },
    {
      "cell_type": "markdown",
      "metadata": {
        "id": "NBEKcfnLgXL4"
      },
      "source": [
        "# **`2. Feature Engineering`**"
      ]
    },
    {
      "cell_type": "code",
      "execution_count": 7,
      "metadata": {
        "colab": {
          "base_uri": "https://localhost:8080/"
        },
        "id": "seuwQSa0Ntle",
        "outputId": "59f6cbbc-bd42-4934-8c50-5cdc5c9752c0"
      },
      "outputs": [],
      "source": [
        "logging.info('FEATURE ENGINEERING STARTS!')"
      ]
    },
    {
      "cell_type": "markdown",
      "metadata": {
        "id": "2zDM0ckqggIs"
      },
      "source": [
        "## **`2.1 Handling the imbalance of data using SMOTE`**"
      ]
    },
    {
      "cell_type": "code",
      "execution_count": 8,
      "metadata": {
        "colab": {
          "base_uri": "https://localhost:8080/"
        },
        "id": "DNbjhainN8lG",
        "outputId": "0e787b14-9e2d-4a45-f67a-9644e6d5840d"
      },
      "outputs": [],
      "source": [
        "logging.info('HANDLING IMBALANCED DATA STARTS!')"
      ]
    },
    {
      "cell_type": "code",
      "execution_count": 9,
      "metadata": {
        "id": "-Ux8PS5kgdBK"
      },
      "outputs": [],
      "source": [
        "# Initialise SMOTE object\n",
        "smote = SMOTE()"
      ]
    },
    {
      "cell_type": "code",
      "execution_count": 10,
      "metadata": {
        "id": "teSK1iU7ryUE"
      },
      "outputs": [],
      "source": [
        "# Separate independent and dependent variables\n",
        "X = df.iloc[:,:-1]\n",
        "y = df['default']"
      ]
    },
    {
      "cell_type": "code",
      "execution_count": 11,
      "metadata": {
        "id": "m44VIeIljghj"
      },
      "outputs": [],
      "source": [
        "# fit predictor and target variable\n",
        "x_smote, y_smote = smote.fit_resample(X, y)"
      ]
    },
    {
      "cell_type": "code",
      "execution_count": 12,
      "metadata": {
        "colab": {
          "base_uri": "https://localhost:8080/",
          "height": 300
        },
        "id": "r76JIQ4Rrhy_",
        "outputId": "206e2560-79ce-4509-9811-a253edad57cd"
      },
      "outputs": [
        {
          "data": {
            "text/html": [
              "<div>\n",
              "<style scoped>\n",
              "    .dataframe tbody tr th:only-of-type {\n",
              "        vertical-align: middle;\n",
              "    }\n",
              "\n",
              "    .dataframe tbody tr th {\n",
              "        vertical-align: top;\n",
              "    }\n",
              "\n",
              "    .dataframe thead th {\n",
              "        text-align: right;\n",
              "    }\n",
              "</style>\n",
              "<table border=\"1\" class=\"dataframe\">\n",
              "  <thead>\n",
              "    <tr style=\"text-align: right;\">\n",
              "      <th></th>\n",
              "      <th>ID</th>\n",
              "      <th>LIMIT_BAL</th>\n",
              "      <th>SEX</th>\n",
              "      <th>EDUCATION</th>\n",
              "      <th>MARRIAGE</th>\n",
              "      <th>AGE</th>\n",
              "      <th>PAY_1</th>\n",
              "      <th>PAY_2</th>\n",
              "      <th>PAY_3</th>\n",
              "      <th>PAY_4</th>\n",
              "      <th>...</th>\n",
              "      <th>BILL_AMT4</th>\n",
              "      <th>BILL_AMT5</th>\n",
              "      <th>BILL_AMT6</th>\n",
              "      <th>PAY_AMT1</th>\n",
              "      <th>PAY_AMT2</th>\n",
              "      <th>PAY_AMT3</th>\n",
              "      <th>PAY_AMT4</th>\n",
              "      <th>PAY_AMT5</th>\n",
              "      <th>PAY_AMT6</th>\n",
              "      <th>default</th>\n",
              "    </tr>\n",
              "  </thead>\n",
              "  <tbody>\n",
              "    <tr>\n",
              "      <th>0</th>\n",
              "      <td>1</td>\n",
              "      <td>20000.0</td>\n",
              "      <td>2</td>\n",
              "      <td>2</td>\n",
              "      <td>1</td>\n",
              "      <td>24</td>\n",
              "      <td>2</td>\n",
              "      <td>2</td>\n",
              "      <td>-1</td>\n",
              "      <td>-1</td>\n",
              "      <td>...</td>\n",
              "      <td>0.0</td>\n",
              "      <td>0.0</td>\n",
              "      <td>0.0</td>\n",
              "      <td>0.0</td>\n",
              "      <td>689.0</td>\n",
              "      <td>0.0</td>\n",
              "      <td>0.0</td>\n",
              "      <td>0.0</td>\n",
              "      <td>0.0</td>\n",
              "      <td>1</td>\n",
              "    </tr>\n",
              "    <tr>\n",
              "      <th>1</th>\n",
              "      <td>2</td>\n",
              "      <td>120000.0</td>\n",
              "      <td>2</td>\n",
              "      <td>2</td>\n",
              "      <td>2</td>\n",
              "      <td>26</td>\n",
              "      <td>-1</td>\n",
              "      <td>2</td>\n",
              "      <td>0</td>\n",
              "      <td>0</td>\n",
              "      <td>...</td>\n",
              "      <td>3272.0</td>\n",
              "      <td>3455.0</td>\n",
              "      <td>3261.0</td>\n",
              "      <td>0.0</td>\n",
              "      <td>1000.0</td>\n",
              "      <td>1000.0</td>\n",
              "      <td>1000.0</td>\n",
              "      <td>0.0</td>\n",
              "      <td>2000.0</td>\n",
              "      <td>1</td>\n",
              "    </tr>\n",
              "    <tr>\n",
              "      <th>2</th>\n",
              "      <td>3</td>\n",
              "      <td>90000.0</td>\n",
              "      <td>2</td>\n",
              "      <td>2</td>\n",
              "      <td>2</td>\n",
              "      <td>34</td>\n",
              "      <td>0</td>\n",
              "      <td>0</td>\n",
              "      <td>0</td>\n",
              "      <td>0</td>\n",
              "      <td>...</td>\n",
              "      <td>14331.0</td>\n",
              "      <td>14948.0</td>\n",
              "      <td>15549.0</td>\n",
              "      <td>1518.0</td>\n",
              "      <td>1500.0</td>\n",
              "      <td>1000.0</td>\n",
              "      <td>1000.0</td>\n",
              "      <td>1000.0</td>\n",
              "      <td>5000.0</td>\n",
              "      <td>0</td>\n",
              "    </tr>\n",
              "    <tr>\n",
              "      <th>3</th>\n",
              "      <td>4</td>\n",
              "      <td>50000.0</td>\n",
              "      <td>2</td>\n",
              "      <td>2</td>\n",
              "      <td>1</td>\n",
              "      <td>37</td>\n",
              "      <td>0</td>\n",
              "      <td>0</td>\n",
              "      <td>0</td>\n",
              "      <td>0</td>\n",
              "      <td>...</td>\n",
              "      <td>28314.0</td>\n",
              "      <td>28959.0</td>\n",
              "      <td>29547.0</td>\n",
              "      <td>2000.0</td>\n",
              "      <td>2019.0</td>\n",
              "      <td>1200.0</td>\n",
              "      <td>1100.0</td>\n",
              "      <td>1069.0</td>\n",
              "      <td>1000.0</td>\n",
              "      <td>0</td>\n",
              "    </tr>\n",
              "    <tr>\n",
              "      <th>4</th>\n",
              "      <td>5</td>\n",
              "      <td>50000.0</td>\n",
              "      <td>1</td>\n",
              "      <td>2</td>\n",
              "      <td>1</td>\n",
              "      <td>57</td>\n",
              "      <td>-1</td>\n",
              "      <td>0</td>\n",
              "      <td>-1</td>\n",
              "      <td>0</td>\n",
              "      <td>...</td>\n",
              "      <td>20940.0</td>\n",
              "      <td>19146.0</td>\n",
              "      <td>19131.0</td>\n",
              "      <td>2000.0</td>\n",
              "      <td>36681.0</td>\n",
              "      <td>10000.0</td>\n",
              "      <td>9000.0</td>\n",
              "      <td>689.0</td>\n",
              "      <td>679.0</td>\n",
              "      <td>0</td>\n",
              "    </tr>\n",
              "  </tbody>\n",
              "</table>\n",
              "<p>5 rows × 25 columns</p>\n",
              "</div>"
            ],
            "text/plain": [
              "   ID  LIMIT_BAL  SEX  EDUCATION  MARRIAGE  AGE  PAY_1  PAY_2  PAY_3  PAY_4  \\\n",
              "0   1    20000.0    2          2         1   24      2      2     -1     -1   \n",
              "1   2   120000.0    2          2         2   26     -1      2      0      0   \n",
              "2   3    90000.0    2          2         2   34      0      0      0      0   \n",
              "3   4    50000.0    2          2         1   37      0      0      0      0   \n",
              "4   5    50000.0    1          2         1   57     -1      0     -1      0   \n",
              "\n",
              "   ...  BILL_AMT4  BILL_AMT5  BILL_AMT6  PAY_AMT1  PAY_AMT2  PAY_AMT3  \\\n",
              "0  ...        0.0        0.0        0.0       0.0     689.0       0.0   \n",
              "1  ...     3272.0     3455.0     3261.0       0.0    1000.0    1000.0   \n",
              "2  ...    14331.0    14948.0    15549.0    1518.0    1500.0    1000.0   \n",
              "3  ...    28314.0    28959.0    29547.0    2000.0    2019.0    1200.0   \n",
              "4  ...    20940.0    19146.0    19131.0    2000.0   36681.0   10000.0   \n",
              "\n",
              "   PAY_AMT4  PAY_AMT5  PAY_AMT6  default  \n",
              "0       0.0       0.0       0.0        1  \n",
              "1    1000.0       0.0    2000.0        1  \n",
              "2    1000.0    1000.0    5000.0        0  \n",
              "3    1100.0    1069.0    1000.0        0  \n",
              "4    9000.0     689.0     679.0        0  \n",
              "\n",
              "[5 rows x 25 columns]"
            ]
          },
          "execution_count": 12,
          "metadata": {},
          "output_type": "execute_result"
        }
      ],
      "source": [
        "# Combine balanced X and y\n",
        "df_final = pd.DataFrame(x_smote, columns=df.columns[:-1])\n",
        "df_final['default'] = y_smote\n",
        "\n",
        "df_final.head()"
      ]
    },
    {
      "cell_type": "code",
      "execution_count": 13,
      "metadata": {
        "colab": {
          "base_uri": "https://localhost:8080/",
          "height": 296
        },
        "id": "yLsuPlFEsoX3",
        "outputId": "94da7f96-684a-4ed1-a251-80d53de839f6"
      },
      "outputs": [
        {
          "data": {
            "text/plain": [
              "<Axes: xlabel='default', ylabel='count'>"
            ]
          },
          "execution_count": 13,
          "metadata": {},
          "output_type": "execute_result"
        },
        {
          "data": {
            "image/png": "[encoded data removed]",
            "text/plain": [
              "<Figure size 640x480 with 1 Axes>"
            ]
          },
          "metadata": {},
          "output_type": "display_data"
        }
      ],
      "source": [
        "#plot to check if the dataframe is balanced after smote\n",
        "sns.countplot(x='default', data = df_final)"
      ]
    },
    {
      "cell_type": "code",
      "execution_count": 14,
      "metadata": {
        "colab": {
          "base_uri": "https://localhost:8080/"
        },
        "id": "nGXpdieaLxWI",
        "outputId": "c42790b7-cdb6-423e-bd7b-fa47efe94d4a"
      },
      "outputs": [
        {
          "data": {
            "text/plain": [
              "default\n",
              "1    23364\n",
              "0    23364\n",
              "Name: count, dtype: int64"
            ]
          },
          "execution_count": 14,
          "metadata": {},
          "output_type": "execute_result"
        }
      ],
      "source": [
        "df_final.default.value_counts()"
      ]
    },
    {
      "cell_type": "code",
      "execution_count": 15,
      "metadata": {
        "colab": {
          "base_uri": "https://localhost:8080/"
        },
        "id": "Bq2x3Ac-OGrC",
        "outputId": "6da6f303-d39d-4948-ca95-42a4caf75bc8"
      },
      "outputs": [],
      "source": [
        "logging.info('HANDLING IMBALANCED DATA ENDS!')"
      ]
    },
    {
      "cell_type": "markdown",
      "metadata": {
        "id": "Pug_dsuOtqeH"
      },
      "source": [
        "Done!\n",
        "\n",
        "Next, we need to perform One Hot Encoding on the categorical variables.\n",
        "But before that, we need to work on the following points:\n",
        "- Change column names PAY_1 to PAY_6 as PAY_SEPT, PAY_AUG, PAY_JULY, PAY_JUNE, PAY_MAY AND PAY_SEPT.\n",
        "- Change column names PAY_AMT1 to PAY_AMT6 to PAY_AMT_SEPT, PAY_AMT_AUG, PAY_AMT_JULY, PAY_AMT_JUNE, PAY_AMT_MAY AND PAY_AMT_SEPT.\n",
        "- Change column names BILL_AMT1 to BILL_AMT6 to BILL_AMT_SEPT, BILL_AMT_AUG, BILL_AMT_JULY, BILL_AMT_JUNE, BILL_AMT_MAY AND BILL_AMT_SEPT.\n",
        "- Change values in SEX: \n",
        "  - 1-Male and \n",
        "  - 2-Female\n",
        "- Change values in EDUCATION : \n",
        "  - 1 : Graguation\n",
        "  - 2 : University\n",
        "  - 3 : High School\n",
        "  - 0,4,5,6 : Others\n",
        "- Change values in Marriage:\n",
        "  - 1 : Married\n",
        "  - 2 : Single\n",
        "  - 0,3 : Others\n"
      ]
    },
    {
      "cell_type": "code",
      "execution_count": 16,
      "metadata": {
        "colab": {
          "base_uri": "https://localhost:8080/",
          "height": 300
        },
        "id": "1Cp9Q-JWiPzM",
        "outputId": "b7d59edf-ce16-4167-8cd7-daffec34fe5d"
      },
      "outputs": [
        {
          "data": {
            "text/html": [
              "<div>\n",
              "<style scoped>\n",
              "    .dataframe tbody tr th:only-of-type {\n",
              "        vertical-align: middle;\n",
              "    }\n",
              "\n",
              "    .dataframe tbody tr th {\n",
              "        vertical-align: top;\n",
              "    }\n",
              "\n",
              "    .dataframe thead th {\n",
              "        text-align: right;\n",
              "    }\n",
              "</style>\n",
              "<table border=\"1\" class=\"dataframe\">\n",
              "  <thead>\n",
              "    <tr style=\"text-align: right;\">\n",
              "      <th></th>\n",
              "      <th>ID</th>\n",
              "      <th>LIMIT_BAL</th>\n",
              "      <th>SEX</th>\n",
              "      <th>EDUCATION</th>\n",
              "      <th>MARRIAGE</th>\n",
              "      <th>AGE</th>\n",
              "      <th>PAY_1</th>\n",
              "      <th>PAY_2</th>\n",
              "      <th>PAY_3</th>\n",
              "      <th>PAY_4</th>\n",
              "      <th>...</th>\n",
              "      <th>BILL_AMT4</th>\n",
              "      <th>BILL_AMT5</th>\n",
              "      <th>BILL_AMT6</th>\n",
              "      <th>PAY_AMT1</th>\n",
              "      <th>PAY_AMT2</th>\n",
              "      <th>PAY_AMT3</th>\n",
              "      <th>PAY_AMT4</th>\n",
              "      <th>PAY_AMT5</th>\n",
              "      <th>PAY_AMT6</th>\n",
              "      <th>default</th>\n",
              "    </tr>\n",
              "  </thead>\n",
              "  <tbody>\n",
              "    <tr>\n",
              "      <th>0</th>\n",
              "      <td>1</td>\n",
              "      <td>20000.0</td>\n",
              "      <td>Female</td>\n",
              "      <td>University</td>\n",
              "      <td>Married</td>\n",
              "      <td>24</td>\n",
              "      <td>2</td>\n",
              "      <td>2</td>\n",
              "      <td>-1</td>\n",
              "      <td>-1</td>\n",
              "      <td>...</td>\n",
              "      <td>0.0</td>\n",
              "      <td>0.0</td>\n",
              "      <td>0.0</td>\n",
              "      <td>0.0</td>\n",
              "      <td>689.0</td>\n",
              "      <td>0.0</td>\n",
              "      <td>0.0</td>\n",
              "      <td>0.0</td>\n",
              "      <td>0.0</td>\n",
              "      <td>1</td>\n",
              "    </tr>\n",
              "    <tr>\n",
              "      <th>1</th>\n",
              "      <td>2</td>\n",
              "      <td>120000.0</td>\n",
              "      <td>Female</td>\n",
              "      <td>University</td>\n",
              "      <td>Single</td>\n",
              "      <td>26</td>\n",
              "      <td>-1</td>\n",
              "      <td>2</td>\n",
              "      <td>0</td>\n",
              "      <td>0</td>\n",
              "      <td>...</td>\n",
              "      <td>3272.0</td>\n",
              "      <td>3455.0</td>\n",
              "      <td>3261.0</td>\n",
              "      <td>0.0</td>\n",
              "      <td>1000.0</td>\n",
              "      <td>1000.0</td>\n",
              "      <td>1000.0</td>\n",
              "      <td>0.0</td>\n",
              "      <td>2000.0</td>\n",
              "      <td>1</td>\n",
              "    </tr>\n",
              "    <tr>\n",
              "      <th>2</th>\n",
              "      <td>3</td>\n",
              "      <td>90000.0</td>\n",
              "      <td>Female</td>\n",
              "      <td>University</td>\n",
              "      <td>Single</td>\n",
              "      <td>34</td>\n",
              "      <td>0</td>\n",
              "      <td>0</td>\n",
              "      <td>0</td>\n",
              "      <td>0</td>\n",
              "      <td>...</td>\n",
              "      <td>14331.0</td>\n",
              "      <td>14948.0</td>\n",
              "      <td>15549.0</td>\n",
              "      <td>1518.0</td>\n",
              "      <td>1500.0</td>\n",
              "      <td>1000.0</td>\n",
              "      <td>1000.0</td>\n",
              "      <td>1000.0</td>\n",
              "      <td>5000.0</td>\n",
              "      <td>0</td>\n",
              "    </tr>\n",
              "    <tr>\n",
              "      <th>3</th>\n",
              "      <td>4</td>\n",
              "      <td>50000.0</td>\n",
              "      <td>Female</td>\n",
              "      <td>University</td>\n",
              "      <td>Married</td>\n",
              "      <td>37</td>\n",
              "      <td>0</td>\n",
              "      <td>0</td>\n",
              "      <td>0</td>\n",
              "      <td>0</td>\n",
              "      <td>...</td>\n",
              "      <td>28314.0</td>\n",
              "      <td>28959.0</td>\n",
              "      <td>29547.0</td>\n",
              "      <td>2000.0</td>\n",
              "      <td>2019.0</td>\n",
              "      <td>1200.0</td>\n",
              "      <td>1100.0</td>\n",
              "      <td>1069.0</td>\n",
              "      <td>1000.0</td>\n",
              "      <td>0</td>\n",
              "    </tr>\n",
              "    <tr>\n",
              "      <th>4</th>\n",
              "      <td>5</td>\n",
              "      <td>50000.0</td>\n",
              "      <td>Male</td>\n",
              "      <td>University</td>\n",
              "      <td>Married</td>\n",
              "      <td>57</td>\n",
              "      <td>-1</td>\n",
              "      <td>0</td>\n",
              "      <td>-1</td>\n",
              "      <td>0</td>\n",
              "      <td>...</td>\n",
              "      <td>20940.0</td>\n",
              "      <td>19146.0</td>\n",
              "      <td>19131.0</td>\n",
              "      <td>2000.0</td>\n",
              "      <td>36681.0</td>\n",
              "      <td>10000.0</td>\n",
              "      <td>9000.0</td>\n",
              "      <td>689.0</td>\n",
              "      <td>679.0</td>\n",
              "      <td>0</td>\n",
              "    </tr>\n",
              "  </tbody>\n",
              "</table>\n",
              "<p>5 rows × 25 columns</p>\n",
              "</div>"
            ],
            "text/plain": [
              "   ID  LIMIT_BAL     SEX   EDUCATION MARRIAGE  AGE  PAY_1  PAY_2  PAY_3  \\\n",
              "0   1    20000.0  Female  University  Married   24      2      2     -1   \n",
              "1   2   120000.0  Female  University   Single   26     -1      2      0   \n",
              "2   3    90000.0  Female  University   Single   34      0      0      0   \n",
              "3   4    50000.0  Female  University  Married   37      0      0      0   \n",
              "4   5    50000.0    Male  University  Married   57     -1      0     -1   \n",
              "\n",
              "   PAY_4  ...  BILL_AMT4  BILL_AMT5  BILL_AMT6  PAY_AMT1  PAY_AMT2  PAY_AMT3  \\\n",
              "0     -1  ...        0.0        0.0        0.0       0.0     689.0       0.0   \n",
              "1      0  ...     3272.0     3455.0     3261.0       0.0    1000.0    1000.0   \n",
              "2      0  ...    14331.0    14948.0    15549.0    1518.0    1500.0    1000.0   \n",
              "3      0  ...    28314.0    28959.0    29547.0    2000.0    2019.0    1200.0   \n",
              "4      0  ...    20940.0    19146.0    19131.0    2000.0   36681.0   10000.0   \n",
              "\n",
              "   PAY_AMT4  PAY_AMT5  PAY_AMT6  default  \n",
              "0       0.0       0.0       0.0        1  \n",
              "1    1000.0       0.0    2000.0        1  \n",
              "2    1000.0    1000.0    5000.0        0  \n",
              "3    1100.0    1069.0    1000.0        0  \n",
              "4    9000.0     689.0     679.0        0  \n",
              "\n",
              "[5 rows x 25 columns]"
            ]
          },
          "execution_count": 16,
          "metadata": {},
          "output_type": "execute_result"
        }
      ],
      "source": [
        "# Replace values in SEX, MARRIAGE and EDUCATION variables\n",
        "df_final['SEX'] = df_final['SEX'].replace({1:'Male', 2:'Female'})\n",
        "df_final['EDUCATION'] = df_final['EDUCATION'].replace({1:'Graduation', 2:'University', 3:'High_School', 0:'Others', 4:'Others', 5:'Others', 6:'Others'})\n",
        "df_final['MARRIAGE'] = df_final['MARRIAGE'].replace({1:'Married', 2:'Single', 0:'Others', 3:'Others'})\n",
        "df_final.head()"
      ]
    },
    {
      "cell_type": "code",
      "execution_count": 17,
      "metadata": {
        "colab": {
          "base_uri": "https://localhost:8080/",
          "height": 300
        },
        "id": "inMv0ajepYPy",
        "outputId": "d9b728ac-4f9b-402e-df9a-4ae193e813e7"
      },
      "outputs": [
        {
          "data": {
            "text/html": [
              "<div>\n",
              "<style scoped>\n",
              "    .dataframe tbody tr th:only-of-type {\n",
              "        vertical-align: middle;\n",
              "    }\n",
              "\n",
              "    .dataframe tbody tr th {\n",
              "        vertical-align: top;\n",
              "    }\n",
              "\n",
              "    .dataframe thead th {\n",
              "        text-align: right;\n",
              "    }\n",
              "</style>\n",
              "<table border=\"1\" class=\"dataframe\">\n",
              "  <thead>\n",
              "    <tr style=\"text-align: right;\">\n",
              "      <th></th>\n",
              "      <th>ID</th>\n",
              "      <th>LIMIT_BAL</th>\n",
              "      <th>SEX</th>\n",
              "      <th>EDUCATION</th>\n",
              "      <th>MARRIAGE</th>\n",
              "      <th>AGE</th>\n",
              "      <th>PAY_SEPT</th>\n",
              "      <th>PAY_AUG</th>\n",
              "      <th>PAY_JULY</th>\n",
              "      <th>PAY_JUNE</th>\n",
              "      <th>...</th>\n",
              "      <th>BILL_AMT_JUNE</th>\n",
              "      <th>BILL_AMT_MAY</th>\n",
              "      <th>BILL_AMT_APRIL</th>\n",
              "      <th>PAY_AMT_SEPT</th>\n",
              "      <th>PAY_AMT_AUG</th>\n",
              "      <th>PAY_AMT_JULY</th>\n",
              "      <th>PAY_AMT_JUNE</th>\n",
              "      <th>PAY_AMT_MAY</th>\n",
              "      <th>PAY_AMT_APRIL</th>\n",
              "      <th>default</th>\n",
              "    </tr>\n",
              "  </thead>\n",
              "  <tbody>\n",
              "    <tr>\n",
              "      <th>0</th>\n",
              "      <td>1</td>\n",
              "      <td>20000.0</td>\n",
              "      <td>Female</td>\n",
              "      <td>University</td>\n",
              "      <td>Married</td>\n",
              "      <td>24</td>\n",
              "      <td>2</td>\n",
              "      <td>2</td>\n",
              "      <td>-1</td>\n",
              "      <td>-1</td>\n",
              "      <td>...</td>\n",
              "      <td>0.0</td>\n",
              "      <td>0.0</td>\n",
              "      <td>0.0</td>\n",
              "      <td>0.0</td>\n",
              "      <td>689.0</td>\n",
              "      <td>0.0</td>\n",
              "      <td>0.0</td>\n",
              "      <td>0.0</td>\n",
              "      <td>0.0</td>\n",
              "      <td>1</td>\n",
              "    </tr>\n",
              "    <tr>\n",
              "      <th>1</th>\n",
              "      <td>2</td>\n",
              "      <td>120000.0</td>\n",
              "      <td>Female</td>\n",
              "      <td>University</td>\n",
              "      <td>Single</td>\n",
              "      <td>26</td>\n",
              "      <td>-1</td>\n",
              "      <td>2</td>\n",
              "      <td>0</td>\n",
              "      <td>0</td>\n",
              "      <td>...</td>\n",
              "      <td>3272.0</td>\n",
              "      <td>3455.0</td>\n",
              "      <td>3261.0</td>\n",
              "      <td>0.0</td>\n",
              "      <td>1000.0</td>\n",
              "      <td>1000.0</td>\n",
              "      <td>1000.0</td>\n",
              "      <td>0.0</td>\n",
              "      <td>2000.0</td>\n",
              "      <td>1</td>\n",
              "    </tr>\n",
              "    <tr>\n",
              "      <th>2</th>\n",
              "      <td>3</td>\n",
              "      <td>90000.0</td>\n",
              "      <td>Female</td>\n",
              "      <td>University</td>\n",
              "      <td>Single</td>\n",
              "      <td>34</td>\n",
              "      <td>0</td>\n",
              "      <td>0</td>\n",
              "      <td>0</td>\n",
              "      <td>0</td>\n",
              "      <td>...</td>\n",
              "      <td>14331.0</td>\n",
              "      <td>14948.0</td>\n",
              "      <td>15549.0</td>\n",
              "      <td>1518.0</td>\n",
              "      <td>1500.0</td>\n",
              "      <td>1000.0</td>\n",
              "      <td>1000.0</td>\n",
              "      <td>1000.0</td>\n",
              "      <td>5000.0</td>\n",
              "      <td>0</td>\n",
              "    </tr>\n",
              "    <tr>\n",
              "      <th>3</th>\n",
              "      <td>4</td>\n",
              "      <td>50000.0</td>\n",
              "      <td>Female</td>\n",
              "      <td>University</td>\n",
              "      <td>Married</td>\n",
              "      <td>37</td>\n",
              "      <td>0</td>\n",
              "      <td>0</td>\n",
              "      <td>0</td>\n",
              "      <td>0</td>\n",
              "      <td>...</td>\n",
              "      <td>28314.0</td>\n",
              "      <td>28959.0</td>\n",
              "      <td>29547.0</td>\n",
              "      <td>2000.0</td>\n",
              "      <td>2019.0</td>\n",
              "      <td>1200.0</td>\n",
              "      <td>1100.0</td>\n",
              "      <td>1069.0</td>\n",
              "      <td>1000.0</td>\n",
              "      <td>0</td>\n",
              "    </tr>\n",
              "    <tr>\n",
              "      <th>4</th>\n",
              "      <td>5</td>\n",
              "      <td>50000.0</td>\n",
              "      <td>Male</td>\n",
              "      <td>University</td>\n",
              "      <td>Married</td>\n",
              "      <td>57</td>\n",
              "      <td>-1</td>\n",
              "      <td>0</td>\n",
              "      <td>-1</td>\n",
              "      <td>0</td>\n",
              "      <td>...</td>\n",
              "      <td>20940.0</td>\n",
              "      <td>19146.0</td>\n",
              "      <td>19131.0</td>\n",
              "      <td>2000.0</td>\n",
              "      <td>36681.0</td>\n",
              "      <td>10000.0</td>\n",
              "      <td>9000.0</td>\n",
              "      <td>689.0</td>\n",
              "      <td>679.0</td>\n",
              "      <td>0</td>\n",
              "    </tr>\n",
              "  </tbody>\n",
              "</table>\n",
              "<p>5 rows × 25 columns</p>\n",
              "</div>"
            ],
            "text/plain": [
              "   ID  LIMIT_BAL     SEX   EDUCATION MARRIAGE  AGE  PAY_SEPT  PAY_AUG  \\\n",
              "0   1    20000.0  Female  University  Married   24         2        2   \n",
              "1   2   120000.0  Female  University   Single   26        -1        2   \n",
              "2   3    90000.0  Female  University   Single   34         0        0   \n",
              "3   4    50000.0  Female  University  Married   37         0        0   \n",
              "4   5    50000.0    Male  University  Married   57        -1        0   \n",
              "\n",
              "   PAY_JULY  PAY_JUNE  ...  BILL_AMT_JUNE  BILL_AMT_MAY  BILL_AMT_APRIL  \\\n",
              "0        -1        -1  ...            0.0           0.0             0.0   \n",
              "1         0         0  ...         3272.0        3455.0          3261.0   \n",
              "2         0         0  ...        14331.0       14948.0         15549.0   \n",
              "3         0         0  ...        28314.0       28959.0         29547.0   \n",
              "4        -1         0  ...        20940.0       19146.0         19131.0   \n",
              "\n",
              "   PAY_AMT_SEPT  PAY_AMT_AUG  PAY_AMT_JULY  PAY_AMT_JUNE  PAY_AMT_MAY  \\\n",
              "0           0.0        689.0           0.0           0.0          0.0   \n",
              "1           0.0       1000.0        1000.0        1000.0          0.0   \n",
              "2        1518.0       1500.0        1000.0        1000.0       1000.0   \n",
              "3        2000.0       2019.0        1200.0        1100.0       1069.0   \n",
              "4        2000.0      36681.0       10000.0        9000.0        689.0   \n",
              "\n",
              "   PAY_AMT_APRIL  default  \n",
              "0            0.0        1  \n",
              "1         2000.0        1  \n",
              "2         5000.0        0  \n",
              "3         1000.0        0  \n",
              "4          679.0        0  \n",
              "\n",
              "[5 rows x 25 columns]"
            ]
          },
          "execution_count": 17,
          "metadata": {},
          "output_type": "execute_result"
        }
      ],
      "source": [
        "# Change column names PAY_1 to PAY_6\n",
        "df_final.rename(columns={'PAY_1':'PAY_SEPT', 'PAY_2':'PAY_AUG', 'PAY_3':'PAY_JULY', \n",
        "                   'PAY_4':'PAY_JUNE', 'PAY_5':'PAY_MAY', 'PAY_6':'PAY_APRIL'}, inplace=True)\n",
        "\n",
        "# Change column names PAY_AMT_1 to PAY_AMT_6\n",
        "df_final.rename(columns={'PAY_AMT1':'PAY_AMT_SEPT', 'PAY_AMT2':'PAY_AMT_AUG', 'PAY_AMT3':'PAY_AMT_JULY', \n",
        "                   'PAY_AMT4':'PAY_AMT_JUNE', 'PAY_AMT5':'PAY_AMT_MAY', 'PAY_AMT6':'PAY_AMT_APRIL'}, inplace=True)\n",
        "\n",
        "# Change column names BILL_AMT_1 to BILL_AMT_6\n",
        "df_final.rename(columns={'BILL_AMT1':'BILL_AMT_SEPT', 'BILL_AMT2':'BILL_AMT_AUG', 'BILL_AMT3':'BILL_AMT_JULY', \n",
        "                   'BILL_AMT4':'BILL_AMT_JUNE', 'BILL_AMT5':'BILL_AMT_MAY', 'BILL_AMT6':'BILL_AMT_APRIL'}, inplace=True)\n",
        "\n",
        "df_final.head()"
      ]
    },
    {
      "cell_type": "code",
      "execution_count": 18,
      "metadata": {
        "colab": {
          "base_uri": "https://localhost:8080/"
        },
        "id": "pZvfgbbI4tfW",
        "outputId": "a0f008c1-323c-4ee9-a56f-bf16422b0dd6"
      },
      "outputs": [
        {
          "data": {
            "text/plain": [
              "(46728, 25)"
            ]
          },
          "execution_count": 18,
          "metadata": {},
          "output_type": "execute_result"
        }
      ],
      "source": [
        "df_final.shape"
      ]
    },
    {
      "cell_type": "markdown",
      "metadata": {
        "id": "X7qpv0QLr5sv"
      },
      "source": [
        "## **`2.2 Encoding categorical variables`**"
      ]
    },
    {
      "cell_type": "code",
      "execution_count": 19,
      "metadata": {
        "colab": {
          "base_uri": "https://localhost:8080/"
        },
        "id": "hZjihObEOMw1",
        "outputId": "4076d21d-9f92-47c3-e20e-371942e62e93"
      },
      "outputs": [],
      "source": [
        "logging.info('ENCODING CATEGORICAL VARIABLE STARTS!')"
      ]
    },
    {
      "cell_type": "code",
      "execution_count": 20,
      "metadata": {
        "colab": {
          "base_uri": "https://localhost:8080/",
          "height": 300
        },
        "id": "KfGmBWrnr4fT",
        "outputId": "b3fe6d39-fb39-48b4-e7ad-b0bc97818514"
      },
      "outputs": [
        {
          "data": {
            "text/html": [
              "<div>\n",
              "<style scoped>\n",
              "    .dataframe tbody tr th:only-of-type {\n",
              "        vertical-align: middle;\n",
              "    }\n",
              "\n",
              "    .dataframe tbody tr th {\n",
              "        vertical-align: top;\n",
              "    }\n",
              "\n",
              "    .dataframe thead th {\n",
              "        text-align: right;\n",
              "    }\n",
              "</style>\n",
              "<table border=\"1\" class=\"dataframe\">\n",
              "  <thead>\n",
              "    <tr style=\"text-align: right;\">\n",
              "      <th></th>\n",
              "      <th>ID</th>\n",
              "      <th>LIMIT_BAL</th>\n",
              "      <th>AGE</th>\n",
              "      <th>PAY_SEPT</th>\n",
              "      <th>PAY_AUG</th>\n",
              "      <th>PAY_JULY</th>\n",
              "      <th>PAY_JUNE</th>\n",
              "      <th>PAY_MAY</th>\n",
              "      <th>PAY_APRIL</th>\n",
              "      <th>BILL_AMT_SEPT</th>\n",
              "      <th>...</th>\n",
              "      <th>default</th>\n",
              "      <th>SEX_Female</th>\n",
              "      <th>SEX_Male</th>\n",
              "      <th>EDUCATION_Graduation</th>\n",
              "      <th>EDUCATION_High_School</th>\n",
              "      <th>EDUCATION_Others</th>\n",
              "      <th>EDUCATION_University</th>\n",
              "      <th>MARRIAGE_Married</th>\n",
              "      <th>MARRIAGE_Others</th>\n",
              "      <th>MARRIAGE_Single</th>\n",
              "    </tr>\n",
              "  </thead>\n",
              "  <tbody>\n",
              "    <tr>\n",
              "      <th>0</th>\n",
              "      <td>1</td>\n",
              "      <td>20000.0</td>\n",
              "      <td>24</td>\n",
              "      <td>2</td>\n",
              "      <td>2</td>\n",
              "      <td>-1</td>\n",
              "      <td>-1</td>\n",
              "      <td>-2</td>\n",
              "      <td>-2</td>\n",
              "      <td>3913.0</td>\n",
              "      <td>...</td>\n",
              "      <td>1</td>\n",
              "      <td>True</td>\n",
              "      <td>False</td>\n",
              "      <td>False</td>\n",
              "      <td>False</td>\n",
              "      <td>False</td>\n",
              "      <td>True</td>\n",
              "      <td>True</td>\n",
              "      <td>False</td>\n",
              "      <td>False</td>\n",
              "    </tr>\n",
              "    <tr>\n",
              "      <th>1</th>\n",
              "      <td>2</td>\n",
              "      <td>120000.0</td>\n",
              "      <td>26</td>\n",
              "      <td>-1</td>\n",
              "      <td>2</td>\n",
              "      <td>0</td>\n",
              "      <td>0</td>\n",
              "      <td>0</td>\n",
              "      <td>2</td>\n",
              "      <td>2682.0</td>\n",
              "      <td>...</td>\n",
              "      <td>1</td>\n",
              "      <td>True</td>\n",
              "      <td>False</td>\n",
              "      <td>False</td>\n",
              "      <td>False</td>\n",
              "      <td>False</td>\n",
              "      <td>True</td>\n",
              "      <td>False</td>\n",
              "      <td>False</td>\n",
              "      <td>True</td>\n",
              "    </tr>\n",
              "    <tr>\n",
              "      <th>2</th>\n",
              "      <td>3</td>\n",
              "      <td>90000.0</td>\n",
              "      <td>34</td>\n",
              "      <td>0</td>\n",
              "      <td>0</td>\n",
              "      <td>0</td>\n",
              "      <td>0</td>\n",
              "      <td>0</td>\n",
              "      <td>0</td>\n",
              "      <td>29239.0</td>\n",
              "      <td>...</td>\n",
              "      <td>0</td>\n",
              "      <td>True</td>\n",
              "      <td>False</td>\n",
              "      <td>False</td>\n",
              "      <td>False</td>\n",
              "      <td>False</td>\n",
              "      <td>True</td>\n",
              "      <td>False</td>\n",
              "      <td>False</td>\n",
              "      <td>True</td>\n",
              "    </tr>\n",
              "    <tr>\n",
              "      <th>3</th>\n",
              "      <td>4</td>\n",
              "      <td>50000.0</td>\n",
              "      <td>37</td>\n",
              "      <td>0</td>\n",
              "      <td>0</td>\n",
              "      <td>0</td>\n",
              "      <td>0</td>\n",
              "      <td>0</td>\n",
              "      <td>0</td>\n",
              "      <td>46990.0</td>\n",
              "      <td>...</td>\n",
              "      <td>0</td>\n",
              "      <td>True</td>\n",
              "      <td>False</td>\n",
              "      <td>False</td>\n",
              "      <td>False</td>\n",
              "      <td>False</td>\n",
              "      <td>True</td>\n",
              "      <td>True</td>\n",
              "      <td>False</td>\n",
              "      <td>False</td>\n",
              "    </tr>\n",
              "    <tr>\n",
              "      <th>4</th>\n",
              "      <td>5</td>\n",
              "      <td>50000.0</td>\n",
              "      <td>57</td>\n",
              "      <td>-1</td>\n",
              "      <td>0</td>\n",
              "      <td>-1</td>\n",
              "      <td>0</td>\n",
              "      <td>0</td>\n",
              "      <td>0</td>\n",
              "      <td>8617.0</td>\n",
              "      <td>...</td>\n",
              "      <td>0</td>\n",
              "      <td>False</td>\n",
              "      <td>True</td>\n",
              "      <td>False</td>\n",
              "      <td>False</td>\n",
              "      <td>False</td>\n",
              "      <td>True</td>\n",
              "      <td>True</td>\n",
              "      <td>False</td>\n",
              "      <td>False</td>\n",
              "    </tr>\n",
              "  </tbody>\n",
              "</table>\n",
              "<p>5 rows × 31 columns</p>\n",
              "</div>"
            ],
            "text/plain": [
              "   ID  LIMIT_BAL  AGE  PAY_SEPT  PAY_AUG  PAY_JULY  PAY_JUNE  PAY_MAY  \\\n",
              "0   1    20000.0   24         2        2        -1        -1       -2   \n",
              "1   2   120000.0   26        -1        2         0         0        0   \n",
              "2   3    90000.0   34         0        0         0         0        0   \n",
              "3   4    50000.0   37         0        0         0         0        0   \n",
              "4   5    50000.0   57        -1        0        -1         0        0   \n",
              "\n",
              "   PAY_APRIL  BILL_AMT_SEPT  ...  default  SEX_Female  SEX_Male  \\\n",
              "0         -2         3913.0  ...        1        True     False   \n",
              "1          2         2682.0  ...        1        True     False   \n",
              "2          0        29239.0  ...        0        True     False   \n",
              "3          0        46990.0  ...        0        True     False   \n",
              "4          0         8617.0  ...        0       False      True   \n",
              "\n",
              "   EDUCATION_Graduation  EDUCATION_High_School  EDUCATION_Others  \\\n",
              "0                 False                  False             False   \n",
              "1                 False                  False             False   \n",
              "2                 False                  False             False   \n",
              "3                 False                  False             False   \n",
              "4                 False                  False             False   \n",
              "\n",
              "   EDUCATION_University  MARRIAGE_Married  MARRIAGE_Others  MARRIAGE_Single  \n",
              "0                  True              True            False            False  \n",
              "1                  True             False            False             True  \n",
              "2                  True             False            False             True  \n",
              "3                  True              True            False            False  \n",
              "4                  True              True            False            False  \n",
              "\n",
              "[5 rows x 31 columns]"
            ]
          },
          "execution_count": 20,
          "metadata": {},
          "output_type": "execute_result"
        }
      ],
      "source": [
        "# Encoding categorical variables\n",
        "df_final = pd.get_dummies(df_final,columns=['SEX', 'EDUCATION','MARRIAGE'])\n",
        "\n",
        "df_final.head()"
      ]
    },
    {
      "cell_type": "code",
      "execution_count": 21,
      "metadata": {
        "id": "wOYgg5-ArnGX"
      },
      "outputs": [],
      "source": [
        "# We drop the column ID as it is of not use for our modeling\n",
        "df_final.drop('ID',axis = 1, inplace = True)"
      ]
    },
    {
      "cell_type": "code",
      "execution_count": 22,
      "metadata": {
        "colab": {
          "base_uri": "https://localhost:8080/"
        },
        "id": "RPnLkEwlrcqu",
        "outputId": "55a1ef0f-48d8-453a-b535-78608a684138"
      },
      "outputs": [
        {
          "data": {
            "text/plain": [
              "(46728, 30)"
            ]
          },
          "execution_count": 22,
          "metadata": {},
          "output_type": "execute_result"
        }
      ],
      "source": [
        "df_final.shape"
      ]
    },
    {
      "cell_type": "code",
      "execution_count": 23,
      "metadata": {
        "colab": {
          "base_uri": "https://localhost:8080/"
        },
        "id": "TKBjxT5JOSuS",
        "outputId": "2b502abd-271c-434f-d291-3e346c494c7f"
      },
      "outputs": [],
      "source": [
        "logging.info('ENCODING CATEGORICAL VARIABLE ENDS!')"
      ]
    },
    {
      "cell_type": "markdown",
      "metadata": {
        "id": "qeLTmR66vMxD"
      },
      "source": [
        "# **`3. Model-1 : Basic Model with all features`**"
      ]
    },
    {
      "cell_type": "code",
      "execution_count": 25,
      "metadata": {
        "colab": {
          "base_uri": "https://localhost:8080/"
        },
        "id": "LR5IC3_DOcAl",
        "outputId": "53945779-d8bf-42fd-d732-6c20da54a88c"
      },
      "outputs": [],
      "source": [
        "logging.info('MODEL-1 RUNNING!')"
      ]
    },
    {
      "cell_type": "code",
      "execution_count": 24,
      "metadata": {
        "id": "8FwwI3qQ622R"
      },
      "outputs": [],
      "source": [
        "# Rearrange columns in dataframe before submitting for modeling\n",
        "df_final = df_final[['SEX_Male', 'SEX_Female', \n",
        "                     'EDUCATION_High_School', 'EDUCATION_Graduation', 'EDUCATION_University', 'EDUCATION_Others',\n",
        "                     'MARRIAGE_Single', 'MARRIAGE_Married', 'MARRIAGE_Others',\n",
        "                     'AGE', 'LIMIT_BAL', \n",
        "                     'PAY_APRIL',\n",
        "                     'PAY_MAY',\n",
        "                     'PAY_JUNE',\n",
        "                     'PAY_JULY',\n",
        "                     'PAY_AUG',\n",
        "                     'PAY_SEPT',\n",
        "                     'BILL_AMT_APRIL', 'BILL_AMT_MAY', 'BILL_AMT_JUNE', 'BILL_AMT_JULY', 'BILL_AMT_AUG', 'BILL_AMT_SEPT',\n",
        "                     'PAY_AMT_APRIL', 'PAY_AMT_MAY', 'PAY_AMT_JUNE', 'PAY_AMT_JULY', 'PAY_AMT_AUG', 'PAY_AMT_SEPT', \n",
        "                     'default']]"
      ]
    },
    {
      "cell_type": "code",
      "execution_count": 25,
      "metadata": {
        "colab": {
          "base_uri": "https://localhost:8080/",
          "height": 300
        },
        "id": "-8OzsXk1Bull",
        "outputId": "5c9b51bc-34ec-49f0-9a17-6bc0e257cf04"
      },
      "outputs": [
        {
          "data": {
            "text/html": [
              "<div>\n",
              "<style scoped>\n",
              "    .dataframe tbody tr th:only-of-type {\n",
              "        vertical-align: middle;\n",
              "    }\n",
              "\n",
              "    .dataframe tbody tr th {\n",
              "        vertical-align: top;\n",
              "    }\n",
              "\n",
              "    .dataframe thead th {\n",
              "        text-align: right;\n",
              "    }\n",
              "</style>\n",
              "<table border=\"1\" class=\"dataframe\">\n",
              "  <thead>\n",
              "    <tr style=\"text-align: right;\">\n",
              "      <th></th>\n",
              "      <th>SEX_Male</th>\n",
              "      <th>SEX_Female</th>\n",
              "      <th>EDUCATION_High_School</th>\n",
              "      <th>EDUCATION_Graduation</th>\n",
              "      <th>EDUCATION_University</th>\n",
              "      <th>EDUCATION_Others</th>\n",
              "      <th>MARRIAGE_Single</th>\n",
              "      <th>MARRIAGE_Married</th>\n",
              "      <th>MARRIAGE_Others</th>\n",
              "      <th>AGE</th>\n",
              "      <th>...</th>\n",
              "      <th>BILL_AMT_JULY</th>\n",
              "      <th>BILL_AMT_AUG</th>\n",
              "      <th>BILL_AMT_SEPT</th>\n",
              "      <th>PAY_AMT_APRIL</th>\n",
              "      <th>PAY_AMT_MAY</th>\n",
              "      <th>PAY_AMT_JUNE</th>\n",
              "      <th>PAY_AMT_JULY</th>\n",
              "      <th>PAY_AMT_AUG</th>\n",
              "      <th>PAY_AMT_SEPT</th>\n",
              "      <th>default</th>\n",
              "    </tr>\n",
              "  </thead>\n",
              "  <tbody>\n",
              "    <tr>\n",
              "      <th>0</th>\n",
              "      <td>False</td>\n",
              "      <td>True</td>\n",
              "      <td>False</td>\n",
              "      <td>False</td>\n",
              "      <td>True</td>\n",
              "      <td>False</td>\n",
              "      <td>False</td>\n",
              "      <td>True</td>\n",
              "      <td>False</td>\n",
              "      <td>24</td>\n",
              "      <td>...</td>\n",
              "      <td>689.0</td>\n",
              "      <td>3102.0</td>\n",
              "      <td>3913.0</td>\n",
              "      <td>0.0</td>\n",
              "      <td>0.0</td>\n",
              "      <td>0.0</td>\n",
              "      <td>0.0</td>\n",
              "      <td>689.0</td>\n",
              "      <td>0.0</td>\n",
              "      <td>1</td>\n",
              "    </tr>\n",
              "    <tr>\n",
              "      <th>1</th>\n",
              "      <td>False</td>\n",
              "      <td>True</td>\n",
              "      <td>False</td>\n",
              "      <td>False</td>\n",
              "      <td>True</td>\n",
              "      <td>False</td>\n",
              "      <td>True</td>\n",
              "      <td>False</td>\n",
              "      <td>False</td>\n",
              "      <td>26</td>\n",
              "      <td>...</td>\n",
              "      <td>2682.0</td>\n",
              "      <td>1725.0</td>\n",
              "      <td>2682.0</td>\n",
              "      <td>2000.0</td>\n",
              "      <td>0.0</td>\n",
              "      <td>1000.0</td>\n",
              "      <td>1000.0</td>\n",
              "      <td>1000.0</td>\n",
              "      <td>0.0</td>\n",
              "      <td>1</td>\n",
              "    </tr>\n",
              "    <tr>\n",
              "      <th>2</th>\n",
              "      <td>False</td>\n",
              "      <td>True</td>\n",
              "      <td>False</td>\n",
              "      <td>False</td>\n",
              "      <td>True</td>\n",
              "      <td>False</td>\n",
              "      <td>True</td>\n",
              "      <td>False</td>\n",
              "      <td>False</td>\n",
              "      <td>34</td>\n",
              "      <td>...</td>\n",
              "      <td>13559.0</td>\n",
              "      <td>14027.0</td>\n",
              "      <td>29239.0</td>\n",
              "      <td>5000.0</td>\n",
              "      <td>1000.0</td>\n",
              "      <td>1000.0</td>\n",
              "      <td>1000.0</td>\n",
              "      <td>1500.0</td>\n",
              "      <td>1518.0</td>\n",
              "      <td>0</td>\n",
              "    </tr>\n",
              "    <tr>\n",
              "      <th>3</th>\n",
              "      <td>False</td>\n",
              "      <td>True</td>\n",
              "      <td>False</td>\n",
              "      <td>False</td>\n",
              "      <td>True</td>\n",
              "      <td>False</td>\n",
              "      <td>False</td>\n",
              "      <td>True</td>\n",
              "      <td>False</td>\n",
              "      <td>37</td>\n",
              "      <td>...</td>\n",
              "      <td>49291.0</td>\n",
              "      <td>48233.0</td>\n",
              "      <td>46990.0</td>\n",
              "      <td>1000.0</td>\n",
              "      <td>1069.0</td>\n",
              "      <td>1100.0</td>\n",
              "      <td>1200.0</td>\n",
              "      <td>2019.0</td>\n",
              "      <td>2000.0</td>\n",
              "      <td>0</td>\n",
              "    </tr>\n",
              "    <tr>\n",
              "      <th>4</th>\n",
              "      <td>True</td>\n",
              "      <td>False</td>\n",
              "      <td>False</td>\n",
              "      <td>False</td>\n",
              "      <td>True</td>\n",
              "      <td>False</td>\n",
              "      <td>False</td>\n",
              "      <td>True</td>\n",
              "      <td>False</td>\n",
              "      <td>57</td>\n",
              "      <td>...</td>\n",
              "      <td>35835.0</td>\n",
              "      <td>5670.0</td>\n",
              "      <td>8617.0</td>\n",
              "      <td>679.0</td>\n",
              "      <td>689.0</td>\n",
              "      <td>9000.0</td>\n",
              "      <td>10000.0</td>\n",
              "      <td>36681.0</td>\n",
              "      <td>2000.0</td>\n",
              "      <td>0</td>\n",
              "    </tr>\n",
              "  </tbody>\n",
              "</table>\n",
              "<p>5 rows × 30 columns</p>\n",
              "</div>"
            ],
            "text/plain": [
              "   SEX_Male  SEX_Female  EDUCATION_High_School  EDUCATION_Graduation  \\\n",
              "0     False        True                  False                 False   \n",
              "1     False        True                  False                 False   \n",
              "2     False        True                  False                 False   \n",
              "3     False        True                  False                 False   \n",
              "4      True       False                  False                 False   \n",
              "\n",
              "   EDUCATION_University  EDUCATION_Others  MARRIAGE_Single  MARRIAGE_Married  \\\n",
              "0                  True             False            False              True   \n",
              "1                  True             False             True             False   \n",
              "2                  True             False             True             False   \n",
              "3                  True             False            False              True   \n",
              "4                  True             False            False              True   \n",
              "\n",
              "   MARRIAGE_Others  AGE  ...  BILL_AMT_JULY  BILL_AMT_AUG  BILL_AMT_SEPT  \\\n",
              "0            False   24  ...          689.0        3102.0         3913.0   \n",
              "1            False   26  ...         2682.0        1725.0         2682.0   \n",
              "2            False   34  ...        13559.0       14027.0        29239.0   \n",
              "3            False   37  ...        49291.0       48233.0        46990.0   \n",
              "4            False   57  ...        35835.0        5670.0         8617.0   \n",
              "\n",
              "   PAY_AMT_APRIL  PAY_AMT_MAY  PAY_AMT_JUNE  PAY_AMT_JULY  PAY_AMT_AUG  \\\n",
              "0            0.0          0.0           0.0           0.0        689.0   \n",
              "1         2000.0          0.0        1000.0        1000.0       1000.0   \n",
              "2         5000.0       1000.0        1000.0        1000.0       1500.0   \n",
              "3         1000.0       1069.0        1100.0        1200.0       2019.0   \n",
              "4          679.0        689.0        9000.0       10000.0      36681.0   \n",
              "\n",
              "   PAY_AMT_SEPT  default  \n",
              "0           0.0        1  \n",
              "1           0.0        1  \n",
              "2        1518.0        0  \n",
              "3        2000.0        0  \n",
              "4        2000.0        0  \n",
              "\n",
              "[5 rows x 30 columns]"
            ]
          },
          "execution_count": 25,
          "metadata": {},
          "output_type": "execute_result"
        }
      ],
      "source": [
        "#df_model = df_final.sample(frac=0.10, random_state=100)\n",
        "# Create a copy of df_final\n",
        "df_model = df_final.copy()\n",
        "df_model.head()"
      ]
    },
    {
      "cell_type": "code",
      "execution_count": 26,
      "metadata": {
        "id": "8hKPPK4BueTJ"
      },
      "outputs": [],
      "source": [
        "# Train Test split\n",
        "X = df_model.drop(columns=['default'], axis=1)\n",
        "y = df_model['default']\n",
        "\n",
        "#standardise the x value by using standardscaler\n",
        "scaler = StandardScaler()\n",
        "X = scaler.fit_transform(X)\n",
        "\n",
        "#split the data set\n",
        "X_train, X_test, y_train, y_test = train_test_split(X, y, test_size=0.3, random_state=42)"
      ]
    },
    {
      "cell_type": "code",
      "execution_count": 27,
      "metadata": {
        "colab": {
          "base_uri": "https://localhost:8080/"
        },
        "id": "SDWR5zzNOhrv",
        "outputId": "4dd50951-53a2-4330-8948-7c1b3c1df37c"
      },
      "outputs": [],
      "source": [
        "logging.info('TRAIN TEST SPLIT OCCURED!')"
      ]
    },
    {
      "cell_type": "code",
      "execution_count": 28,
      "metadata": {
        "colab": {
          "base_uri": "https://localhost:8080/"
        },
        "id": "8BolD5k95EEd",
        "outputId": "9962cafe-cb01-4df5-f40a-c07c9aaf2aa5"
      },
      "outputs": [],
      "source": [
        "# Initialise RandomForestClassifier object\n",
        "rf_clf = RandomForestClassifier(random_state=6)\n",
        "rf_clf.fit(X_train,y_train)\n",
        "\n",
        "logging.info('MODEL-1 FITTED ON TRAINING DATA!')"
      ]
    },
    {
      "cell_type": "code",
      "execution_count": 29,
      "metadata": {
        "colab": {
          "base_uri": "https://localhost:8080/"
        },
        "id": "zUQBI59MHZK7",
        "outputId": "9c7ebf68-69de-4993-863c-6172259ebad0"
      },
      "outputs": [],
      "source": [
        "# Get the predicted classes\n",
        "train_class_preds = rf_clf.predict(X_train)\n",
        "test_class_preds = rf_clf.predict(X_test)\n",
        "\n",
        "logging.info('PREDICTED ON BOTH TRAIN AND TEST DATA')"
      ]
    },
    {
      "cell_type": "markdown",
      "metadata": {
        "id": "fKe-DK-QtGSf"
      },
      "source": [
        "Here, we are going to consider **Recall Score** as our evaluation metric, since we are more considered about predicting maximum number of actual defaulters."
      ]
    },
    {
      "cell_type": "code",
      "execution_count": 30,
      "metadata": {
        "colab": {
          "base_uri": "https://localhost:8080/"
        },
        "id": "HvMYSaL4HmdV",
        "outputId": "58911e40-4c10-44e4-f861-67604b5945d5"
      },
      "outputs": [],
      "source": [
        "# Calculate recall scores on train and test data\n",
        "train_recall_score_rf = recall_score(train_class_preds,y_train)\n",
        "test_recall_score_rf = recall_score(test_class_preds,y_test)\n",
        "\n",
        "logging.info('EVALUATION METRICS CALCULATED')"
      ]
    },
    {
      "cell_type": "code",
      "execution_count": 31,
      "metadata": {
        "colab": {
          "base_uri": "https://localhost:8080/"
        },
        "id": "xTTsEGAKPjqC",
        "outputId": "a58e95a2-c6d5-4ec6-fb03-45bc010962b0"
      },
      "outputs": [
        {
          "name": "stdout",
          "output_type": "stream",
          "text": [
            "The recall on train data is  0.9991439926627943\n",
            "The recall on test data is  0.8436250555308752\n"
          ]
        }
      ],
      "source": [
        "# Print the recall scores\n",
        "print(\"The recall on train data is \", train_recall_score_rf)\n",
        "print(\"The recall on test data is \", test_recall_score_rf)"
      ]
    },
    {
      "cell_type": "code",
      "execution_count": 32,
      "metadata": {
        "colab": {
          "base_uri": "https://localhost:8080/"
        },
        "id": "IAnuF-AdQF2g",
        "outputId": "9f9e83a2-e427-487b-d62d-6e7054ce5f24"
      },
      "outputs": [],
      "source": [
        "logging.info(f'TRAIN RECALL SCORE={train_recall_score_rf} \\n TEST RECALL SCORE={test_recall_score_rf}')"
      ]
    },
    {
      "cell_type": "markdown",
      "metadata": {
        "id": "NSF7FUEZXLbv"
      },
      "source": [
        "# **`4. Feature Selection`**"
      ]
    },
    {
      "cell_type": "code",
      "execution_count": 33,
      "metadata": {
        "colab": {
          "base_uri": "https://localhost:8080/"
        },
        "id": "HmWBcDbyjudh",
        "outputId": "f24386bf-0f50-440d-83eb-d1590f7c5e56"
      },
      "outputs": [],
      "source": [
        "logging.info('FEATURE SELECTION STARTS!')"
      ]
    },
    {
      "cell_type": "code",
      "execution_count": 34,
      "metadata": {
        "colab": {
          "base_uri": "https://localhost:8080/"
        },
        "id": "WkCXMDGGZPau",
        "outputId": "113fc880-1fa6-47ec-c509-ce24976ec477"
      },
      "outputs": [
        {
          "data": {
            "text/plain": [
              "array([0.01599847, 0.02105086, 0.01058581, 0.00937282, 0.00762267,\n",
              "       0.0013501 , 0.01521446, 0.01984625, 0.00084947, 0.05226542,\n",
              "       0.05517262, 0.02091143, 0.02383367, 0.03072862, 0.03035783,\n",
              "       0.06370546, 0.07044454, 0.0420214 , 0.04224131, 0.04420213,\n",
              "       0.04394409, 0.04783965, 0.05562018, 0.0427547 , 0.04061463,\n",
              "       0.04282052, 0.04637286, 0.04694849, 0.05530953])"
            ]
          },
          "execution_count": 34,
          "metadata": {},
          "output_type": "execute_result"
        }
      ],
      "source": [
        "# Find feature importance scores\n",
        "rf_clf.feature_importances_"
      ]
    },
    {
      "cell_type": "code",
      "execution_count": 35,
      "metadata": {
        "id": "LQNXuVGyXSKR"
      },
      "outputs": [],
      "source": [
        "# Arrange features according to their scores in descending order\n",
        "feature_scores = pd.Series(rf_clf.feature_importances_,\n",
        "                           index=df_model.drop('default', axis=1).columns).sort_values(ascending=False)                         "
      ]
    },
    {
      "cell_type": "code",
      "execution_count": 36,
      "metadata": {},
      "outputs": [
        {
          "data": {
            "image/png": "[encoded data removed]",
            "text/plain": [
              "<Figure size 3000x2400 with 1 Axes>"
            ]
          },
          "metadata": {},
          "output_type": "display_data"
        }
      ],
      "source": [
        "# Visualizing the scores\n",
        "f, ax = plt.subplots(figsize=(30,24))\n",
        "ax = sns.barplot(x=feature_scores,\n",
        "                    y=feature_scores.index, palette='viridis')  \n",
        "ax.set_title('Feature Scores')\n",
        "ax.set_yticklabels(feature_scores.index)\n",
        "plt.show()\n"
      ]
    },
    {
      "cell_type": "code",
      "execution_count": 37,
      "metadata": {
        "colab": {
          "base_uri": "https://localhost:8080/"
        },
        "id": "NnRDkdIWbbT4",
        "outputId": "2c13a110-0f1f-4ae1-af05-387328c18889"
      },
      "outputs": [],
      "source": [
        "logging.info('FEATURE SELECTION ENDS!')"
      ]
    },
    {
      "cell_type": "markdown",
      "metadata": {
        "id": "Ca9XAeExg0v1"
      },
      "source": [
        "# **`5. Model-2 : With important features`**"
      ]
    },
    {
      "cell_type": "code",
      "execution_count": 38,
      "metadata": {
        "colab": {
          "base_uri": "https://localhost:8080/"
        },
        "id": "53YfP4t3jsCc",
        "outputId": "639c87cd-ab7b-487f-a008-f20e8dc1e107"
      },
      "outputs": [],
      "source": [
        "logging.info('MODEL-2 RUNNING!')"
      ]
    },
    {
      "cell_type": "code",
      "execution_count": 39,
      "metadata": {
        "colab": {
          "base_uri": "https://localhost:8080/"
        },
        "id": "9PnM8VPFg-jU",
        "outputId": "ea023638-6fb5-4c03-fec8-d4af2032b0ba"
      },
      "outputs": [],
      "source": [
        "# Create a dataframe from df_model using the top 15 features based on importance score\n",
        "df_imp = df_model[feature_scores.index[:15]]\n",
        "df_imp['default'] = df_model['default']\n",
        "df_imp.head()\n",
        "\n",
        "# Separate independent and dependent variables\n",
        "X = df_imp.drop('default', axis=1)\n",
        "y = df_imp['default']"
      ]
    },
    {
      "cell_type": "code",
      "execution_count": 40,
      "metadata": {
        "id": "O3Vzb48fQbhq"
      },
      "outputs": [],
      "source": [
        "#standardise the x value by using standardscaler\n",
        "scaler = StandardScaler()\n",
        "X = scaler.fit_transform(X)"
      ]
    },
    {
      "cell_type": "code",
      "execution_count": 41,
      "metadata": {
        "id": "fA43cDnBhus9"
      },
      "outputs": [],
      "source": [
        "# Split the data to train and test groups\n",
        "X_train, X_test, y_train, y_test = train_test_split(X, y, test_size=0.2, random_state=42)"
      ]
    },
    {
      "cell_type": "code",
      "execution_count": 42,
      "metadata": {
        "colab": {
          "base_uri": "https://localhost:8080/"
        },
        "id": "PbL4nmqQky_I",
        "outputId": "03dd86c0-3215-405a-a086-3e201ab83d67"
      },
      "outputs": [],
      "source": [
        "logging.info('TRAIN TEST SPLIT OCCURED!')"
      ]
    },
    {
      "cell_type": "code",
      "execution_count": 43,
      "metadata": {
        "colab": {
          "base_uri": "https://localhost:8080/"
        },
        "id": "shFkdwLria-g",
        "outputId": "20836f1d-0137-47b8-d9d1-4b96be9b6eb4"
      },
      "outputs": [],
      "source": [
        "# Initiate RandomForestClassifier object\n",
        "rf_clf_2 = RandomForestClassifier(random_state=6)\n",
        "rf_clf_2.fit(X_train,y_train)\n",
        "\n",
        "logging.info('MODEL-2 FITTED ON TRAINING DATA!')"
      ]
    },
    {
      "cell_type": "code",
      "execution_count": 44,
      "metadata": {
        "colab": {
          "base_uri": "https://localhost:8080/"
        },
        "id": "FLpKqFJfia-j",
        "outputId": "16813e1b-8bfc-4a6b-e4e9-dc66fff21956"
      },
      "outputs": [],
      "source": [
        "# Get the predicted classes\n",
        "train_class_preds = rf_clf_2.predict(X_train)\n",
        "test_class_preds = rf_clf_2.predict(X_test)\n",
        "\n",
        "logging.info('PREDICTED ON BOTH TRAIN AND TEST DATA')"
      ]
    },
    {
      "cell_type": "code",
      "execution_count": 45,
      "metadata": {
        "colab": {
          "base_uri": "https://localhost:8080/"
        },
        "id": "OASqVksQia-k",
        "outputId": "7efa3395-8a60-4d62-a7ab-53f98bb413fa"
      },
      "outputs": [],
      "source": [
        "# Calculate recall scores\n",
        "train_recall_score_rf = recall_score(train_class_preds,y_train)\n",
        "test_recall_score_rf = recall_score(test_class_preds,y_test)\n",
        "\n",
        "logging.info('EVALUATION METRICS CALCULATED')"
      ]
    },
    {
      "cell_type": "code",
      "execution_count": 46,
      "metadata": {
        "colab": {
          "base_uri": "https://localhost:8080/"
        },
        "id": "JeIGHSJzia-l",
        "outputId": "a0b39958-7330-466c-c74d-9b038f2aad7e"
      },
      "outputs": [
        {
          "name": "stdout",
          "output_type": "stream",
          "text": [
            "The recall on train data is  0.9978589016165292\n",
            "The recall on test data is  0.8607482842594643\n"
          ]
        }
      ],
      "source": [
        "# Display recall scores\n",
        "print(\"The recall on train data is \", train_recall_score_rf)\n",
        "print(\"The recall on test data is \", test_recall_score_rf)"
      ]
    },
    {
      "cell_type": "markdown",
      "metadata": {
        "id": "_JLzJXAdI4G9"
      },
      "source": [
        "**OBSERVATION :** Recall score on test data has improved from the previous model.\n",
        "\n",
        "Note : Scores might not improve by huge amounts every time we modify the model, but by few points, which does infact, reduce the loss for the organization by considerable amount monetarily."
      ]
    },
    {
      "cell_type": "code",
      "execution_count": 47,
      "metadata": {
        "colab": {
          "base_uri": "https://localhost:8080/"
        },
        "id": "ytd5aztNia-m",
        "outputId": "b2c8a010-a0a1-4dfd-9d9f-aef7835f21e7"
      },
      "outputs": [],
      "source": [
        "logging.info(f'TRAIN RECALL SCORE={train_recall_score_rf} \\n TEST RECALL SCORE={test_recall_score_rf}')"
      ]
    },
    {
      "cell_type": "markdown",
      "metadata": {
        "id": "DN6wA3LnvaaA"
      },
      "source": [
        "# **`6. Feature Engineering : Create feature BILL_AMT_AVG`**"
      ]
    },
    {
      "cell_type": "markdown",
      "metadata": {
        "id": "v-tA0jN_pVBP"
      },
      "source": [
        "In this stage, we create or engineer a new feature BILL_AMT_AVG, by calculating the average of all the bill amounts."
      ]
    },
    {
      "cell_type": "code",
      "execution_count": 48,
      "metadata": {
        "colab": {
          "base_uri": "https://localhost:8080/"
        },
        "id": "XX00Hc6dkBcy",
        "outputId": "0dc68543-5745-42ec-a21f-c34fa7b99905"
      },
      "outputs": [],
      "source": [
        "logging.info('FEATURE ENGINEERING : FEATURE CREATION BILL_AMT_AVG, STARTS!')"
      ]
    },
    {
      "cell_type": "code",
      "execution_count": 49,
      "metadata": {
        "id": "TexHJ--mv1MG"
      },
      "outputs": [],
      "source": [
        "# Create the new feature in the original dataframe\n",
        "df_model['BILL_AMT_AVG'] = (df_model['BILL_AMT_APRIL'] + df_model['BILL_AMT_MAY'] + df_model['BILL_AMT_JUNE'] + df_model['BILL_AMT_JULY'] + df_model['BILL_AMT_AUG'] + df_model['BILL_AMT_SEPT'])/6"
      ]
    },
    {
      "cell_type": "code",
      "execution_count": 50,
      "metadata": {
        "colab": {
          "base_uri": "https://localhost:8080/"
        },
        "id": "y75JiAjQwBvn",
        "outputId": "bd0579b6-a452-4aa1-84f2-ae352090c3bf"
      },
      "outputs": [
        {
          "data": {
            "text/html": [
              "<div>\n",
              "<style scoped>\n",
              "    .dataframe tbody tr th:only-of-type {\n",
              "        vertical-align: middle;\n",
              "    }\n",
              "\n",
              "    .dataframe tbody tr th {\n",
              "        vertical-align: top;\n",
              "    }\n",
              "\n",
              "    .dataframe thead th {\n",
              "        text-align: right;\n",
              "    }\n",
              "</style>\n",
              "<table border=\"1\" class=\"dataframe\">\n",
              "  <thead>\n",
              "    <tr style=\"text-align: right;\">\n",
              "      <th></th>\n",
              "      <th>PAY_SEPT</th>\n",
              "      <th>PAY_AUG</th>\n",
              "      <th>BILL_AMT_SEPT</th>\n",
              "      <th>PAY_AMT_SEPT</th>\n",
              "      <th>LIMIT_BAL</th>\n",
              "      <th>AGE</th>\n",
              "      <th>BILL_AMT_AUG</th>\n",
              "      <th>PAY_AMT_AUG</th>\n",
              "      <th>PAY_AMT_JULY</th>\n",
              "      <th>BILL_AMT_JUNE</th>\n",
              "      <th>BILL_AMT_JULY</th>\n",
              "      <th>PAY_AMT_JUNE</th>\n",
              "      <th>PAY_AMT_APRIL</th>\n",
              "      <th>BILL_AMT_MAY</th>\n",
              "      <th>BILL_AMT_APRIL</th>\n",
              "      <th>default</th>\n",
              "      <th>BILL_AMT_AVG</th>\n",
              "    </tr>\n",
              "  </thead>\n",
              "  <tbody>\n",
              "    <tr>\n",
              "      <th>0</th>\n",
              "      <td>2</td>\n",
              "      <td>2</td>\n",
              "      <td>3913.0</td>\n",
              "      <td>0.0</td>\n",
              "      <td>20000.0</td>\n",
              "      <td>24</td>\n",
              "      <td>3102.0</td>\n",
              "      <td>689.0</td>\n",
              "      <td>0.0</td>\n",
              "      <td>0.0</td>\n",
              "      <td>689.0</td>\n",
              "      <td>0.0</td>\n",
              "      <td>0.0</td>\n",
              "      <td>0.0</td>\n",
              "      <td>0.0</td>\n",
              "      <td>1</td>\n",
              "      <td>1284.000000</td>\n",
              "    </tr>\n",
              "    <tr>\n",
              "      <th>1</th>\n",
              "      <td>-1</td>\n",
              "      <td>2</td>\n",
              "      <td>2682.0</td>\n",
              "      <td>0.0</td>\n",
              "      <td>120000.0</td>\n",
              "      <td>26</td>\n",
              "      <td>1725.0</td>\n",
              "      <td>1000.0</td>\n",
              "      <td>1000.0</td>\n",
              "      <td>3272.0</td>\n",
              "      <td>2682.0</td>\n",
              "      <td>1000.0</td>\n",
              "      <td>2000.0</td>\n",
              "      <td>3455.0</td>\n",
              "      <td>3261.0</td>\n",
              "      <td>1</td>\n",
              "      <td>2846.166667</td>\n",
              "    </tr>\n",
              "    <tr>\n",
              "      <th>2</th>\n",
              "      <td>0</td>\n",
              "      <td>0</td>\n",
              "      <td>29239.0</td>\n",
              "      <td>1518.0</td>\n",
              "      <td>90000.0</td>\n",
              "      <td>34</td>\n",
              "      <td>14027.0</td>\n",
              "      <td>1500.0</td>\n",
              "      <td>1000.0</td>\n",
              "      <td>14331.0</td>\n",
              "      <td>13559.0</td>\n",
              "      <td>1000.0</td>\n",
              "      <td>5000.0</td>\n",
              "      <td>14948.0</td>\n",
              "      <td>15549.0</td>\n",
              "      <td>0</td>\n",
              "      <td>16942.166667</td>\n",
              "    </tr>\n",
              "    <tr>\n",
              "      <th>3</th>\n",
              "      <td>0</td>\n",
              "      <td>0</td>\n",
              "      <td>46990.0</td>\n",
              "      <td>2000.0</td>\n",
              "      <td>50000.0</td>\n",
              "      <td>37</td>\n",
              "      <td>48233.0</td>\n",
              "      <td>2019.0</td>\n",
              "      <td>1200.0</td>\n",
              "      <td>28314.0</td>\n",
              "      <td>49291.0</td>\n",
              "      <td>1100.0</td>\n",
              "      <td>1000.0</td>\n",
              "      <td>28959.0</td>\n",
              "      <td>29547.0</td>\n",
              "      <td>0</td>\n",
              "      <td>38555.666667</td>\n",
              "    </tr>\n",
              "    <tr>\n",
              "      <th>4</th>\n",
              "      <td>-1</td>\n",
              "      <td>0</td>\n",
              "      <td>8617.0</td>\n",
              "      <td>2000.0</td>\n",
              "      <td>50000.0</td>\n",
              "      <td>57</td>\n",
              "      <td>5670.0</td>\n",
              "      <td>36681.0</td>\n",
              "      <td>10000.0</td>\n",
              "      <td>20940.0</td>\n",
              "      <td>35835.0</td>\n",
              "      <td>9000.0</td>\n",
              "      <td>679.0</td>\n",
              "      <td>19146.0</td>\n",
              "      <td>19131.0</td>\n",
              "      <td>0</td>\n",
              "      <td>18223.166667</td>\n",
              "    </tr>\n",
              "  </tbody>\n",
              "</table>\n",
              "</div>"
            ],
            "text/plain": [
              "   PAY_SEPT  PAY_AUG  BILL_AMT_SEPT  PAY_AMT_SEPT  LIMIT_BAL  AGE  \\\n",
              "0         2        2         3913.0           0.0    20000.0   24   \n",
              "1        -1        2         2682.0           0.0   120000.0   26   \n",
              "2         0        0        29239.0        1518.0    90000.0   34   \n",
              "3         0        0        46990.0        2000.0    50000.0   37   \n",
              "4        -1        0         8617.0        2000.0    50000.0   57   \n",
              "\n",
              "   BILL_AMT_AUG  PAY_AMT_AUG  PAY_AMT_JULY  BILL_AMT_JUNE  BILL_AMT_JULY  \\\n",
              "0        3102.0        689.0           0.0            0.0          689.0   \n",
              "1        1725.0       1000.0        1000.0         3272.0         2682.0   \n",
              "2       14027.0       1500.0        1000.0        14331.0        13559.0   \n",
              "3       48233.0       2019.0        1200.0        28314.0        49291.0   \n",
              "4        5670.0      36681.0       10000.0        20940.0        35835.0   \n",
              "\n",
              "   PAY_AMT_JUNE  PAY_AMT_APRIL  BILL_AMT_MAY  BILL_AMT_APRIL  default  \\\n",
              "0           0.0            0.0           0.0             0.0        1   \n",
              "1        1000.0         2000.0        3455.0          3261.0        1   \n",
              "2        1000.0         5000.0       14948.0         15549.0        0   \n",
              "3        1100.0         1000.0       28959.0         29547.0        0   \n",
              "4        9000.0          679.0       19146.0         19131.0        0   \n",
              "\n",
              "   BILL_AMT_AVG  \n",
              "0   1284.000000  \n",
              "1   2846.166667  \n",
              "2  16942.166667  \n",
              "3  38555.666667  \n",
              "4  18223.166667  "
            ]
          },
          "execution_count": 50,
          "metadata": {},
          "output_type": "execute_result"
        }
      ],
      "source": [
        "# Add the new feature to df_imp\n",
        "df_imp['BILL_AMT_AVG'] = df_model['BILL_AMT_AVG']\n",
        "df_imp.head()"
      ]
    },
    {
      "cell_type": "code",
      "execution_count": 51,
      "metadata": {
        "colab": {
          "base_uri": "https://localhost:8080/"
        },
        "id": "XPTo1urHwY2Z",
        "outputId": "e2e47bc7-1c21-4f01-dd84-8f4799345b45"
      },
      "outputs": [],
      "source": [
        "logging.info('FEATURE ENGINEERING : FEATURE CREATION BILL_AMT_AVG, ENDS!')"
      ]
    },
    {
      "cell_type": "markdown",
      "metadata": {
        "id": "k8gcTljbwZPd"
      },
      "source": [
        "# **`7. Model-3 : With new feature BILL_AMT_AVG`**"
      ]
    },
    {
      "cell_type": "code",
      "execution_count": 52,
      "metadata": {
        "colab": {
          "base_uri": "https://localhost:8080/"
        },
        "id": "wJW3d17ClAhU",
        "outputId": "8cb2dfe6-888d-4efc-b769-fe0dd4a3b82f"
      },
      "outputs": [],
      "source": [
        "logging.info('MODEL-3 RUNNING!')"
      ]
    },
    {
      "cell_type": "code",
      "execution_count": 53,
      "metadata": {
        "id": "tZkap0lLwZPe"
      },
      "outputs": [],
      "source": [
        "X = df_imp.drop('default', axis=1)\n",
        "y = df_imp['default']\n",
        "\n",
        "#standardise the x value by using standardscaler\n",
        "scaler = StandardScaler()\n",
        "X = scaler.fit_transform(X)"
      ]
    },
    {
      "cell_type": "code",
      "execution_count": 54,
      "metadata": {
        "id": "KfVysLpBwZQH"
      },
      "outputs": [],
      "source": [
        "# Split the data to train and test groups\n",
        "X_train, X_test, y_train, y_test = train_test_split(X, y, test_size=0.2, random_state=42)"
      ]
    },
    {
      "cell_type": "code",
      "execution_count": 55,
      "metadata": {
        "colab": {
          "base_uri": "https://localhost:8080/"
        },
        "id": "W1GemqEPlFXT",
        "outputId": "db2b69b7-98bf-40ad-8e4d-9a56d059d64e"
      },
      "outputs": [],
      "source": [
        "logging.info('TRAIN TEST SPLIT OCCURED!')"
      ]
    },
    {
      "cell_type": "code",
      "execution_count": 56,
      "metadata": {
        "colab": {
          "base_uri": "https://localhost:8080/"
        },
        "id": "Rnmgc0R7wZQI",
        "outputId": "b68a7065-b94e-417e-a287-66347cb0866e"
      },
      "outputs": [],
      "source": [
        "rf_clf_3 = RandomForestClassifier(random_state=6)\n",
        "rf_clf_3.fit(X_train,y_train)\n",
        "\n",
        "logging.info('MODEL FITTED ON TRAINING DATA!')"
      ]
    },
    {
      "cell_type": "code",
      "execution_count": 57,
      "metadata": {
        "colab": {
          "base_uri": "https://localhost:8080/"
        },
        "id": "Aq0-B4M7wZQJ",
        "outputId": "1facb101-554d-460a-d909-84b49b3c8466"
      },
      "outputs": [],
      "source": [
        "# Get the predicted classes\n",
        "train_class_preds = rf_clf_3.predict(X_train)\n",
        "test_class_preds = rf_clf_3.predict(X_test)\n",
        "\n",
        "logging.info('PREDICTED ON BOTH TRAIN AND TEST DATA')"
      ]
    },
    {
      "cell_type": "code",
      "execution_count": 58,
      "metadata": {
        "colab": {
          "base_uri": "https://localhost:8080/"
        },
        "id": "byLHo06RwZQK",
        "outputId": "57526c52-693e-43b6-f09a-11a240c3db20"
      },
      "outputs": [],
      "source": [
        "train_recall_score_rf = recall_score(train_class_preds,y_train)\n",
        "test_recall_score_rf = recall_score(test_class_preds,y_test)\n",
        "\n",
        "logging.info('EVALUATION METRICS CALCULATED')"
      ]
    },
    {
      "cell_type": "code",
      "execution_count": 59,
      "metadata": {
        "colab": {
          "base_uri": "https://localhost:8080/"
        },
        "id": "JXLBQnJ0wZQM",
        "outputId": "cb32eb93-177c-4052-ac7e-9ca3b56bf3d0"
      },
      "outputs": [
        {
          "name": "stdout",
          "output_type": "stream",
          "text": [
            "The recall on train data is  0.9978590162179521\n",
            "The recall on test data is  0.8591424127971562\n"
          ]
        }
      ],
      "source": [
        "print(\"The recall on train data is \", train_recall_score_rf)\n",
        "print(\"The recall on test data is \", test_recall_score_rf)"
      ]
    },
    {
      "cell_type": "markdown",
      "metadata": {
        "id": "I1j_deKeJvl7"
      },
      "source": [
        "**OBSERVATION :** Recall score has again improved slightly from te previous model. Threfore we shall keep the newly created feature as one of the independent variables."
      ]
    },
    {
      "cell_type": "code",
      "execution_count": 60,
      "metadata": {
        "colab": {
          "base_uri": "https://localhost:8080/"
        },
        "id": "z8ck_GEcwZQN",
        "outputId": "660d6eb9-1cde-4ca5-85f6-3bbd0f7324d3"
      },
      "outputs": [],
      "source": [
        "logging.info(f'TRAIN RECALL SCORE={train_recall_score_rf} \\n TEST RECALL SCORE={test_recall_score_rf}')"
      ]
    },
    {
      "cell_type": "code",
      "execution_count": 61,
      "metadata": {
        "colab": {
          "base_uri": "https://localhost:8080/"
        },
        "id": "yIsz_75Hbft6",
        "outputId": "430140f1-5c80-4609-da51-ad3bd51e2d1d"
      },
      "outputs": [
        {
          "data": {
            "text/plain": [
              "array([[ 1.63045257,  1.62180377, -0.62761567, -0.33493131, -1.06463147,\n",
              "        -1.29413492, -0.63428168, -0.21824646, -0.2841525 , -0.66336124,\n",
              "        -0.65974914, -0.3033312 , -0.28346812, -0.65447934, -0.6481155 ,\n",
              "        -0.67382763]])"
            ]
          },
          "execution_count": 61,
          "metadata": {},
          "output_type": "execute_result"
        }
      ],
      "source": [
        "X[:1]"
      ]
    },
    {
      "cell_type": "markdown",
      "metadata": {
        "id": "KhBQ9AaLw46I"
      },
      "source": [
        "# **`8. Feature Engineering : Create feature BILL_PAY_VALUE`**"
      ]
    },
    {
      "cell_type": "code",
      "execution_count": 62,
      "metadata": {
        "colab": {
          "base_uri": "https://localhost:8080/"
        },
        "id": "hVP9ZcHEXaz4",
        "outputId": "b323a695-4f2b-407a-a9d7-09441f09eb3e"
      },
      "outputs": [],
      "source": [
        "logging.info('FEATURE ENGINEERING : FEATURE CREATION BILL_PAY_VALUE, STARTS!')"
      ]
    },
    {
      "cell_type": "code",
      "execution_count": 63,
      "metadata": {
        "id": "HaDW6lSRvZFo"
      },
      "outputs": [],
      "source": [
        "df_model['BILL_PAY_VALUE'] = ((df_model['PAY_AMT_SEPT']-df_model['BILL_AMT_AUG']) +\n",
        "                       (df_model['PAY_AMT_AUG']-df_model['BILL_AMT_JULY']) +\n",
        "                       (df_model['PAY_AMT_JULY']-df_model['BILL_AMT_JUNE']) +\n",
        "                       (df_model['PAY_AMT_JUNE']-df_model['BILL_AMT_MAY']) +\n",
        "                       (df_model['PAY_AMT_MAY']-df_model['BILL_AMT_APRIL']))/5"
      ]
    },
    {
      "cell_type": "code",
      "execution_count": 64,
      "metadata": {
        "colab": {
          "base_uri": "https://localhost:8080/"
        },
        "id": "-7IxCmszy_Ki",
        "outputId": "e0f94156-f2f2-4e48-a048-8b7d2aa89ff0"
      },
      "outputs": [
        {
          "data": {
            "text/html": [
              "<div>\n",
              "<style scoped>\n",
              "    .dataframe tbody tr th:only-of-type {\n",
              "        vertical-align: middle;\n",
              "    }\n",
              "\n",
              "    .dataframe tbody tr th {\n",
              "        vertical-align: top;\n",
              "    }\n",
              "\n",
              "    .dataframe thead th {\n",
              "        text-align: right;\n",
              "    }\n",
              "</style>\n",
              "<table border=\"1\" class=\"dataframe\">\n",
              "  <thead>\n",
              "    <tr style=\"text-align: right;\">\n",
              "      <th></th>\n",
              "      <th>PAY_SEPT</th>\n",
              "      <th>PAY_AUG</th>\n",
              "      <th>BILL_AMT_SEPT</th>\n",
              "      <th>PAY_AMT_SEPT</th>\n",
              "      <th>LIMIT_BAL</th>\n",
              "      <th>AGE</th>\n",
              "      <th>BILL_AMT_AUG</th>\n",
              "      <th>PAY_AMT_AUG</th>\n",
              "      <th>PAY_AMT_JULY</th>\n",
              "      <th>BILL_AMT_JUNE</th>\n",
              "      <th>BILL_AMT_JULY</th>\n",
              "      <th>PAY_AMT_JUNE</th>\n",
              "      <th>PAY_AMT_APRIL</th>\n",
              "      <th>BILL_AMT_MAY</th>\n",
              "      <th>BILL_AMT_APRIL</th>\n",
              "      <th>default</th>\n",
              "      <th>BILL_AMT_AVG</th>\n",
              "      <th>BILL_PAY_VALUE</th>\n",
              "    </tr>\n",
              "  </thead>\n",
              "  <tbody>\n",
              "    <tr>\n",
              "      <th>0</th>\n",
              "      <td>2</td>\n",
              "      <td>2</td>\n",
              "      <td>3913.0</td>\n",
              "      <td>0.0</td>\n",
              "      <td>20000.0</td>\n",
              "      <td>24</td>\n",
              "      <td>3102.0</td>\n",
              "      <td>689.0</td>\n",
              "      <td>0.0</td>\n",
              "      <td>0.0</td>\n",
              "      <td>689.0</td>\n",
              "      <td>0.0</td>\n",
              "      <td>0.0</td>\n",
              "      <td>0.0</td>\n",
              "      <td>0.0</td>\n",
              "      <td>1</td>\n",
              "      <td>1284.000000</td>\n",
              "      <td>-620.4</td>\n",
              "    </tr>\n",
              "    <tr>\n",
              "      <th>1</th>\n",
              "      <td>-1</td>\n",
              "      <td>2</td>\n",
              "      <td>2682.0</td>\n",
              "      <td>0.0</td>\n",
              "      <td>120000.0</td>\n",
              "      <td>26</td>\n",
              "      <td>1725.0</td>\n",
              "      <td>1000.0</td>\n",
              "      <td>1000.0</td>\n",
              "      <td>3272.0</td>\n",
              "      <td>2682.0</td>\n",
              "      <td>1000.0</td>\n",
              "      <td>2000.0</td>\n",
              "      <td>3455.0</td>\n",
              "      <td>3261.0</td>\n",
              "      <td>1</td>\n",
              "      <td>2846.166667</td>\n",
              "      <td>-2279.0</td>\n",
              "    </tr>\n",
              "    <tr>\n",
              "      <th>2</th>\n",
              "      <td>0</td>\n",
              "      <td>0</td>\n",
              "      <td>29239.0</td>\n",
              "      <td>1518.0</td>\n",
              "      <td>90000.0</td>\n",
              "      <td>34</td>\n",
              "      <td>14027.0</td>\n",
              "      <td>1500.0</td>\n",
              "      <td>1000.0</td>\n",
              "      <td>14331.0</td>\n",
              "      <td>13559.0</td>\n",
              "      <td>1000.0</td>\n",
              "      <td>5000.0</td>\n",
              "      <td>14948.0</td>\n",
              "      <td>15549.0</td>\n",
              "      <td>0</td>\n",
              "      <td>16942.166667</td>\n",
              "      <td>-13279.2</td>\n",
              "    </tr>\n",
              "    <tr>\n",
              "      <th>3</th>\n",
              "      <td>0</td>\n",
              "      <td>0</td>\n",
              "      <td>46990.0</td>\n",
              "      <td>2000.0</td>\n",
              "      <td>50000.0</td>\n",
              "      <td>37</td>\n",
              "      <td>48233.0</td>\n",
              "      <td>2019.0</td>\n",
              "      <td>1200.0</td>\n",
              "      <td>28314.0</td>\n",
              "      <td>49291.0</td>\n",
              "      <td>1100.0</td>\n",
              "      <td>1000.0</td>\n",
              "      <td>28959.0</td>\n",
              "      <td>29547.0</td>\n",
              "      <td>0</td>\n",
              "      <td>38555.666667</td>\n",
              "      <td>-35391.2</td>\n",
              "    </tr>\n",
              "    <tr>\n",
              "      <th>4</th>\n",
              "      <td>-1</td>\n",
              "      <td>0</td>\n",
              "      <td>8617.0</td>\n",
              "      <td>2000.0</td>\n",
              "      <td>50000.0</td>\n",
              "      <td>57</td>\n",
              "      <td>5670.0</td>\n",
              "      <td>36681.0</td>\n",
              "      <td>10000.0</td>\n",
              "      <td>20940.0</td>\n",
              "      <td>35835.0</td>\n",
              "      <td>9000.0</td>\n",
              "      <td>679.0</td>\n",
              "      <td>19146.0</td>\n",
              "      <td>19131.0</td>\n",
              "      <td>0</td>\n",
              "      <td>18223.166667</td>\n",
              "      <td>-8470.4</td>\n",
              "    </tr>\n",
              "  </tbody>\n",
              "</table>\n",
              "</div>"
            ],
            "text/plain": [
              "   PAY_SEPT  PAY_AUG  BILL_AMT_SEPT  PAY_AMT_SEPT  LIMIT_BAL  AGE  \\\n",
              "0         2        2         3913.0           0.0    20000.0   24   \n",
              "1        -1        2         2682.0           0.0   120000.0   26   \n",
              "2         0        0        29239.0        1518.0    90000.0   34   \n",
              "3         0        0        46990.0        2000.0    50000.0   37   \n",
              "4        -1        0         8617.0        2000.0    50000.0   57   \n",
              "\n",
              "   BILL_AMT_AUG  PAY_AMT_AUG  PAY_AMT_JULY  BILL_AMT_JUNE  BILL_AMT_JULY  \\\n",
              "0        3102.0        689.0           0.0            0.0          689.0   \n",
              "1        1725.0       1000.0        1000.0         3272.0         2682.0   \n",
              "2       14027.0       1500.0        1000.0        14331.0        13559.0   \n",
              "3       48233.0       2019.0        1200.0        28314.0        49291.0   \n",
              "4        5670.0      36681.0       10000.0        20940.0        35835.0   \n",
              "\n",
              "   PAY_AMT_JUNE  PAY_AMT_APRIL  BILL_AMT_MAY  BILL_AMT_APRIL  default  \\\n",
              "0           0.0            0.0           0.0             0.0        1   \n",
              "1        1000.0         2000.0        3455.0          3261.0        1   \n",
              "2        1000.0         5000.0       14948.0         15549.0        0   \n",
              "3        1100.0         1000.0       28959.0         29547.0        0   \n",
              "4        9000.0          679.0       19146.0         19131.0        0   \n",
              "\n",
              "   BILL_AMT_AVG  BILL_PAY_VALUE  \n",
              "0   1284.000000          -620.4  \n",
              "1   2846.166667         -2279.0  \n",
              "2  16942.166667        -13279.2  \n",
              "3  38555.666667        -35391.2  \n",
              "4  18223.166667         -8470.4  "
            ]
          },
          "execution_count": 64,
          "metadata": {},
          "output_type": "execute_result"
        }
      ],
      "source": [
        "df_imp['BILL_PAY_VALUE'] = df_model['BILL_PAY_VALUE']\n",
        "df_imp.head()"
      ]
    },
    {
      "cell_type": "code",
      "execution_count": 65,
      "metadata": {
        "colab": {
          "base_uri": "https://localhost:8080/"
        },
        "id": "GTims-Uzbvhh",
        "outputId": "456002f4-b40d-46b4-f1b3-45baca885204"
      },
      "outputs": [],
      "source": [
        "logging.info('FEATURE ENGINEERING : FEATURE CREATION BILL_AMT_AVG, ENDS!')"
      ]
    },
    {
      "cell_type": "markdown",
      "metadata": {
        "id": "Fohc7TClxkCj"
      },
      "source": [
        "# **`9. Model-4 : With new feature BILL_PAY_VALUE`**"
      ]
    },
    {
      "cell_type": "code",
      "execution_count": 66,
      "metadata": {
        "colab": {
          "base_uri": "https://localhost:8080/"
        },
        "id": "NwiS_-I4lLjX",
        "outputId": "2253c207-b7e9-4e45-880b-992dd8b4a021"
      },
      "outputs": [],
      "source": [
        "logging.info('MODEL-4 RUNNING!')"
      ]
    },
    {
      "cell_type": "code",
      "execution_count": 67,
      "metadata": {
        "id": "uZL4OV4pr6n3"
      },
      "outputs": [],
      "source": [
        "#df_imp.drop('BILL_AMT_AVG', axis=1, inplace=True)"
      ]
    },
    {
      "cell_type": "code",
      "execution_count": 68,
      "metadata": {
        "id": "QvOHF_jWxkCk"
      },
      "outputs": [],
      "source": [
        "X = df_imp.drop('default', axis=1)\n",
        "y = df_imp['default']"
      ]
    },
    {
      "cell_type": "code",
      "execution_count": 69,
      "metadata": {
        "id": "OgGBnwIosjJQ"
      },
      "outputs": [],
      "source": [
        "#standardise the x value by using standardscaler\n",
        "scaler = StandardScaler()\n",
        "X = scaler.fit_transform(X)"
      ]
    },
    {
      "cell_type": "code",
      "execution_count": 70,
      "metadata": {
        "id": "nmz2P4FLxkCl"
      },
      "outputs": [],
      "source": [
        "# Split the data to train and test groups\n",
        "X_train, X_test, y_train, y_test = train_test_split(X, y, test_size=0.2, random_state=42)"
      ]
    },
    {
      "cell_type": "code",
      "execution_count": 71,
      "metadata": {
        "colab": {
          "base_uri": "https://localhost:8080/"
        },
        "id": "fwAOPpHgxkCm",
        "outputId": "5a900d98-0a6c-4aac-d301-5a7f7e875b91"
      },
      "outputs": [],
      "source": [
        "rf_clf_4 = RandomForestClassifier(random_state=6)\n",
        "rf_clf_4.fit(X_train,y_train)\n",
        "\n",
        "logging.info('MODEL-4 FITTED ON TRAINING DATA!')"
      ]
    },
    {
      "cell_type": "code",
      "execution_count": 72,
      "metadata": {
        "colab": {
          "base_uri": "https://localhost:8080/"
        },
        "id": "GQReMfwtxkCn",
        "outputId": "37d05ac1-64c1-4cfb-f26c-543ee327be4d"
      },
      "outputs": [],
      "source": [
        "# Get the predicted classes\n",
        "train_class_preds = rf_clf_4.predict(X_train)\n",
        "test_class_preds = rf_clf_4.predict(X_test)\n",
        "\n",
        "logging.info('PREDICTED ON BOTH TRAIN AND TEST DATA')"
      ]
    },
    {
      "cell_type": "code",
      "execution_count": 73,
      "metadata": {
        "colab": {
          "base_uri": "https://localhost:8080/"
        },
        "id": "wAyrVDEYxkCo",
        "outputId": "f9e6b636-648b-4ec2-9a89-bc5ea019b357"
      },
      "outputs": [],
      "source": [
        "# Recall scores calculated on train and test data\n",
        "train_recall_score_rf = recall_score(train_class_preds,y_train)\n",
        "test_recall_score_rf = recall_score(test_class_preds,y_test)\n",
        "\n",
        "logging.info('EVALUATION METRICS CALCULATED')"
      ]
    },
    {
      "cell_type": "code",
      "execution_count": 74,
      "metadata": {
        "colab": {
          "base_uri": "https://localhost:8080/"
        },
        "id": "6JSNwvGixkCp",
        "outputId": "53dc9d9c-98c6-40fe-ae33-7769615b981d"
      },
      "outputs": [
        {
          "name": "stdout",
          "output_type": "stream",
          "text": [
            "The recall on train data is  0.9978056090772853\n",
            "The recall on test data is  0.8610064287297716\n"
          ]
        }
      ],
      "source": [
        "print(\"The recall on train data is \", train_recall_score_rf)\n",
        "print(\"The recall on test data is \", test_recall_score_rf)"
      ]
    },
    {
      "cell_type": "markdown",
      "metadata": {
        "id": "ygqO6EpAKMAE"
      },
      "source": [
        "**OBSERVATION :** Recall score has decresed by a couple of points from the previous model. We decide to remove the feature from the independent variable set."
      ]
    },
    {
      "cell_type": "code",
      "execution_count": 75,
      "metadata": {
        "colab": {
          "base_uri": "https://localhost:8080/"
        },
        "id": "pgorscX8MJVB",
        "outputId": "42a8e059-3353-4fcf-a78f-1236853c1cc1"
      },
      "outputs": [],
      "source": [
        "df_imp.drop('BILL_PAY_VALUE', axis=1, inplace=True)"
      ]
    },
    {
      "cell_type": "code",
      "execution_count": 76,
      "metadata": {
        "colab": {
          "base_uri": "https://localhost:8080/"
        },
        "id": "en5AodenxkCq",
        "outputId": "1d618032-508a-47de-e9c3-0cf71fcc7853"
      },
      "outputs": [],
      "source": [
        "logging.info(f'TRAIN RECALL SCORE={train_recall_score_rf} \\n TEST RECALL SCORE={test_recall_score_rf}')"
      ]
    },
    {
      "cell_type": "markdown",
      "metadata": {
        "id": "kJZmlKt4K_g8"
      },
      "source": [
        "# **`10. Save the Model`**"
      ]
    },
    {
      "cell_type": "code",
      "execution_count": 77,
      "metadata": {
        "colab": {
          "base_uri": "https://localhost:8080/"
        },
        "id": "1QQFP2-2Qa0y",
        "outputId": "226ccc8d-cc42-41fa-fff6-3841b63d9b5b"
      },
      "outputs": [],
      "source": [
        "logging.info('SAVING THE MODEL....')"
      ]
    },
    {
      "cell_type": "markdown",
      "metadata": {
        "id": "n6ln0vjwm3qi"
      },
      "source": [
        "Compress the model.pkl, since it is difficult to upload a file more than 25mb in Github (for deployment)."
      ]
    },
    {
      "cell_type": "code",
      "execution_count": 90,
      "metadata": {},
      "outputs": [
        {
          "name": "stdout",
          "output_type": "stream",
          "text": [
            "\n",
            "Model: Random Forest\n",
            "Recall: 0.8163\n",
            "Classification Report:\n",
            "              precision    recall  f1-score   support\n",
            "\n",
            "           0       0.82      0.86      0.84      4664\n",
            "           1       0.86      0.82      0.84      4682\n",
            "\n",
            "    accuracy                           0.84      9346\n",
            "   macro avg       0.84      0.84      0.84      9346\n",
            "weighted avg       0.84      0.84      0.84      9346\n",
            "\n",
            "Confusion Matrix:\n",
            "[[4032  632]\n",
            " [ 860 3822]]\n",
            "\n",
            "Model: XGBoost\n",
            "Recall: 0.7642\n",
            "Classification Report:\n",
            "              precision    recall  f1-score   support\n",
            "\n",
            "           0       0.78      0.84      0.81      4664\n",
            "           1       0.83      0.76      0.79      4682\n",
            "\n",
            "    accuracy                           0.80      9346\n",
            "   macro avg       0.80      0.80      0.80      9346\n",
            "weighted avg       0.80      0.80      0.80      9346\n",
            "\n",
            "Confusion Matrix:\n",
            "[[3913  751]\n",
            " [1104 3578]]\n",
            "\n",
            "Model: Logistic Regression\n",
            "Recall: 0.6751\n",
            "Classification Report:\n",
            "              precision    recall  f1-score   support\n",
            "\n",
            "           0       0.67      0.66      0.66      4664\n",
            "           1       0.66      0.68      0.67      4682\n",
            "\n",
            "    accuracy                           0.67      9346\n",
            "   macro avg       0.67      0.67      0.67      9346\n",
            "weighted avg       0.67      0.67      0.67      9346\n",
            "\n",
            "Confusion Matrix:\n",
            "[[3057 1607]\n",
            " [1521 3161]]\n",
            "\n",
            "Model: SVM\n",
            "Recall: 0.6602\n",
            "Classification Report:\n",
            "              precision    recall  f1-score   support\n",
            "\n",
            "           0       0.70      0.81      0.75      4664\n",
            "           1       0.78      0.66      0.71      4682\n",
            "\n",
            "    accuracy                           0.73      9346\n",
            "   macro avg       0.74      0.73      0.73      9346\n",
            "weighted avg       0.74      0.73      0.73      9346\n",
            "\n",
            "Confusion Matrix:\n",
            "[[3775  889]\n",
            " [1591 3091]]\n"
          ]
        },
        {
          "data": {
            "image/png": "[encoded data removed]",
            "text/plain": [
              "<Figure size 1000x600 with 1 Axes>"
            ]
          },
          "metadata": {},
          "output_type": "display_data"
        }
      ],
      "source": [
        "from sklearn.model_selection import train_test_split, RandomizedSearchCV\n",
        "from sklearn.linear_model import LogisticRegression\n",
        "from sklearn.ensemble import RandomForestClassifier\n",
        "from xgboost import XGBClassifier\n",
        "from sklearn.svm import SVC\n",
        "from sklearn.neural_network import MLPClassifier\n",
        "from sklearn.metrics import recall_score, classification_report, confusion_matrix\n",
        "import matplotlib.pyplot as plt\n",
        "from sklearn.feature_selection import SelectKBest, chi2\n",
        "from joblib import parallel_backend\n",
        "\n",
        "from sklearn.metrics import recall_score\n",
        "\n",
        "# Split the data into training and testing sets\n",
        "X_train, X_test, y_train, y_test = train_test_split(X, y, test_size=0.2, random_state=42)\n",
        "\n",
        "# Define the hyperparameter grids for each model\n",
        "param_grid_rf = {\n",
        "    'n_estimators': [50, 100, 150],\n",
        "    'max_depth': [5, 10, 20],\n",
        "    'min_samples_split': [2, 5, 10],\n",
        "    'min_samples_leaf': [1, 2, 4],\n",
        "    'max_features': ['sqrt', 'log2']\n",
        "}\n",
        "\n",
        "param_grid_xgb = {\n",
        "    'n_estimators': [50, 100, 150],\n",
        "    'max_depth': [3, 4, 5],\n",
        "    'learning_rate': [0.01, 0.1, 0.2],\n",
        "    'subsample': [0.8, 0.9, 1.0],\n",
        "    'colsample_bytree': [0.8, 0.9, 1.0]\n",
        "}\n",
        "\n",
        "param_grid_logistic = {\n",
        "    'C': [0.1, 1, 10],\n",
        "    'penalty': ['l1', 'l2']\n",
        "}\n",
        "\n",
        "param_grid_svm = {\n",
        "    'C': [0.1, 1, 10],\n",
        "    'kernel': ['linear', 'poly', 'rbf', 'sigmoid']\n",
        "}\n",
        "\n",
        "\n",
        "# Create the models with default hyperparameters\n",
        "rf_model = RandomForestClassifier(random_state=42)\n",
        "xgb_model = XGBClassifier(random_state=42)\n",
        "logistic_model = LogisticRegression(random_state=42)\n",
        "svm_model = SVC(random_state=42)\n",
        "\n",
        "\n",
        "# Perform Randomized Search with cross-validation to find the best hyperparameters for each model\n",
        "random_search_rf = RandomizedSearchCV(rf_model, param_grid_rf, n_iter=10, cv=5, scoring='accuracy', n_jobs=-1, random_state=42)\n",
        "random_search_xgb = RandomizedSearchCV(xgb_model, param_grid_xgb, n_iter=10, cv=5, scoring='accuracy', n_jobs=-1, random_state=42)\n",
        "random_search_logistic = RandomizedSearchCV(logistic_model, param_grid_logistic, n_iter=10, cv=5, scoring='accuracy', n_jobs=-1, random_state=42)\n",
        "random_search_svm = RandomizedSearchCV(svm_model, param_grid_svm, n_iter=10, cv=5, scoring='accuracy', n_jobs=-1, random_state=42)\n",
        "\n",
        "# Fit the models with Randomized Search\n",
        "with parallel_backend('threading'):\n",
        "    random_search_rf.fit(X_train, y_train)\n",
        "    random_search_xgb.fit(X_train, y_train)\n",
        "    random_search_logistic.fit(X_train, y_train)\n",
        "    random_search_svm.fit(X_train, y_train)\n",
        "    \n",
        "\n",
        "# Get the best hyperparameters and best models\n",
        "best_params_rf = random_search_rf.best_params_\n",
        "best_rf_model = random_search_rf.best_estimator_\n",
        "\n",
        "best_params_xgb = random_search_xgb.best_params_\n",
        "best_xgb_model = random_search_xgb.best_estimator_\n",
        "\n",
        "best_params_logistic = random_search_logistic.best_params_\n",
        "best_logistic_model = random_search_logistic.best_estimator_\n",
        "\n",
        "best_params_svm = random_search_svm.best_params_\n",
        "best_svm_model = random_search_svm.best_estimator_\n",
        "\n",
        "# Evaluate the best models\n",
        "best_models = {\n",
        "    \"Random Forest\": best_rf_model,\n",
        "    \"XGBoost\": best_xgb_model,\n",
        "    \"Logistic Regression\": best_logistic_model,\n",
        "    \"SVM\": best_svm_model,\n",
        "}\n",
        "\n",
        "# Calculate recalls\n",
        "model_recalls = {}\n",
        "for model_name, model in best_models.items():\n",
        "    y_pred = model.predict(X_test)\n",
        "    recall = recall_score(y_test, y_pred)\n",
        "    model_recalls[model_name] = recall\n",
        "\n",
        "# Print the best hyperparameters for each model\n",
        "# (Include your existing print statements for best hyperparameters here)\n",
        "\n",
        "# Evaluate the best models\n",
        "for model_name, model in best_models.items():\n",
        "    print(f\"\\nModel: {model_name}\")\n",
        "    y_pred = model.predict(X_test)\n",
        "    recall = recall_score(y_test, y_pred)  # Changed accuracy_score to recall_score\n",
        "    print(f\"Recall: {recall:.4f}\")  # Changed from Accuracy to Recall\n",
        "\n",
        "    # Additional Evaluation Metrics\n",
        "    print(\"Classification Report:\")\n",
        "    print(classification_report(y_test, y_pred))\n",
        "\n",
        "    print(\"Confusion Matrix:\")\n",
        "    print(confusion_matrix(y_test, y_pred))\n",
        "\n",
        "# Plotting the bar graph\n",
        "plt.figure(figsize=(10, 6))\n",
        "\n",
        "# Add color to the bars\n",
        "colors = ['blue', 'green', 'red','orange'] \n",
        "\n",
        "plt.bar(model_recalls.keys(), model_recalls.values(), color=colors)\n",
        "\n",
        "plt.xlabel('Models')\n",
        "plt.ylabel('Recall')\n",
        "plt.title('Model Comparison - Recall with Hyperparameter Tuning')\n",
        "plt.ylim(0.5, 1.0)  # Adjust the y-axis limits as needed\n",
        "plt.xticks(rotation=45, ha='right')\n",
        "plt.show()"
      ]
    },
    {
      "cell_type": "markdown",
      "metadata": {},
      "source": [
        "We got the highest recall score using model rf with 0.867. Therefore, we shall save this model for production."
      ]
    },
    {
      "cell_type": "code",
      "execution_count": 91,
      "metadata": {},
      "outputs": [],
      "source": [
        "pickle.dump(model, open('model_1.pkl', 'wb'))\n",
        "\n",
        "logging.info('MODEL SAVED!')"
      ]
    },
    {
      "cell_type": "code",
      "execution_count": null,
      "metadata": {
        "colab": {
          "base_uri": "https://localhost:8080/"
        },
        "id": "1aZDvg5rTNkk",
        "outputId": "584ad07d-bb7f-4f37-ca07-a6727e3b81fa"
      },
      "outputs": [],
      "source": [
        "#pip install bz2file"
      ]
    },
    {
      "cell_type": "code",
      "execution_count": 92,
      "metadata": {
        "id": "mOKYZhUM4qxu"
      },
      "outputs": [],
      "source": [
        "import bz2file as bz2 "
      ]
    },
    {
      "cell_type": "code",
      "execution_count": 93,
      "metadata": {
        "id": "CnAobE-T4wVa"
      },
      "outputs": [],
      "source": [
        "def compressed_pickle(title, data):\n",
        "  with bz2.BZ2File(title + '.pbz2', 'w') as f:\n",
        "    pickle.dump(data, f)"
      ]
    },
    {
      "cell_type": "code",
      "execution_count": 94,
      "metadata": {
        "id": "lT5Lkosf4_hc"
      },
      "outputs": [],
      "source": [
        "compressed_pickle('model_1', model)"
      ]
    },
    {
      "cell_type": "code",
      "execution_count": 95,
      "metadata": {
        "colab": {
          "base_uri": "https://localhost:8080/"
        },
        "id": "cfToQf9JQoj7",
        "outputId": "8023d4d6-1385-4440-9f69-e61c7f0be2a4"
      },
      "outputs": [],
      "source": [
        "logging.info('PROJECT RUNNING ENDS!')"
      ]
    }
  ],
  "metadata": {
    "colab": {
      "collapsed_sections": [
        "FimHqXKdaAUv",
        "NBEKcfnLgXL4",
        "2zDM0ckqggIs",
        "X7qpv0QLr5sv",
        "qeLTmR66vMxD",
        "NSF7FUEZXLbv",
        "Ca9XAeExg0v1",
        "DN6wA3LnvaaA",
        "k8gcTljbwZPd",
        "KhBQ9AaLw46I",
        "s2_UxPEnulQm",
        "kJZmlKt4K_g8"
      ],
      "provenance": []
    },
    "kernelspec": {
      "display_name": "Python 3",
      "name": "python3"
    },
    "language_info": {
      "codemirror_mode": {
        "name": "ipython",
        "version": 3
      },
      "file_extension": ".py",
      "mimetype": "text/x-python",
      "name": "python",
      "nbconvert_exporter": "python",
      "pygments_lexer": "ipython3",
      "version": "3.9.0"
    }
  },
  "nbformat": 4,
  "nbformat_minor": 0
}
